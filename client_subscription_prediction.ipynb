{
 "cells": [
  {
   "cell_type": "markdown",
   "metadata": {},
   "source": [
    "## Description\n",
    "\n",
    "    Dataset ini adalah data dari marketing campaign yang dilakukan oleh salah satu lembaga Bank di Portugis yang mana berisi empat kategori data pelanggan, yaitu ; data umum pelanggan, data kontak terakhir dengan pelanggan, data atribut terkait sosial ekonomi pelanggan, dan data tambahan.\n",
    "\n",
    "### Objective\n",
    "\n",
    "    Melakukan prediksi terhadap calon klien, apakah akan melakukan deposito berjangka atau tidak pada bank.\n",
    "\n",
    "### Problem Statement\n",
    "\n",
    "    - Dataset masih kotor sehingga harus dilakukan pembersihan.\n",
    "    - Menggunakan beberapa machine learning untuk dijadikan bahan pertimbangan, diantaranya :\n",
    "        1. Logistic Regression\n",
    "        2. Naive Bayes\n",
    "        3. K-Nearest Neighbors\n",
    "        4. Decision Tree\n",
    "        5. Support Vector Machines\n",
    "        6. Random Forest\n",
    "        7. Perceptron"
   ]
  },
  {
   "cell_type": "markdown",
   "metadata": {},
   "source": [
    "<hr>"
   ]
  },
  {
   "cell_type": "markdown",
   "metadata": {},
   "source": [
    "## Input variables (informasi):\n",
    "#### bank client data:\n",
    "    1  - age         : umur\n",
    "    2  - job         : Jenis pekerjaan\n",
    "    3  - marital     : Status pernikahah\n",
    "    4  - education   : Pendidikan terakhir\n",
    "    5  - default     : Apakah mempunyai kredit?\n",
    "    6  - housing     : Apakah mempunyai cicilan rumah?\n",
    "    7  - loan        : Apakah mempunyai pinjaman pribadi?\n",
    "    \n",
    "#### info mengenai kapan terakhir kali kontak dengan calon client:\n",
    "    8  - contact     : kontak melalui media/via?\n",
    "    9  - month       : terakhir kontak (bulan)\n",
    "    10 - day_of_week : terakhir kontak (hari)\n",
    "    11 - duration    : lama kontak dengan client dalam satuan detik \n",
    "\n",
    "#### other attributes:\n",
    "    12 - campaign    : Jumlah kontak dengan client, selama kampanye berlangsung (termasuk kontak terakhir)\n",
    "    13 - pdays       : Jumlah hari setelah client terakhir kali dihubungi\n",
    "                       (999 berarti client tidak pernah dihubungi)\n",
    "    14 - previous    : Jumlah kontak yang dilakukan sebelum kampanye ini(sekarang) dilakukan\n",
    "    15 - poutcome    : Status dari kampanye sebelumnya (gagal / tidak ada / sukses)\n",
    "\n",
    "#### social and economic context attributes\n",
    "    16 - emp.var.rate   : tingkat variasi pekerjaan (indikator kuartal)\n",
    "    17 - cons.price.idx : Index biaya hidup (indikator bulanan)\n",
    "    18 - cons.conf.idx  : Index kepercayaan client (indikator bulanan)\n",
    "    19 - euribor3m      : Euribor 3 month rate (indikator harian)\n",
    "    20 - nr.employed    : Jumlah pegawai (indikator kuartal)"
   ]
  },
  {
   "cell_type": "markdown",
   "metadata": {},
   "source": [
    "### Kamus Sederhana: \n",
    "\n",
    "- `CPI (Consumer Price Index)`  :  merupakan data yang menunjukkan tingkat inflasi suatu negara. Data CPI merupakan indikator untuk menilai perubahan rata-rata atas suatu harga barang dan jasa, yang dihitung melalui pemantauan terhadap perubahan harga di setiap barang & jasa tersebut.\n",
    "# \n",
    "- `CCI (Consumer Confident Index)`   :  merupakan alat ukur yang digunakan untuk meneliti perilaku konsumer rumah tangga (<i>household sector<i>) atas berbagau faktor ekonomi yang mempengaruhi pengambilan keputusan, terutama terkait <i>spending<i> (pengeluaran rumah tangga) dan <i>saving<i> (tabungan).\n",
    "# \n",
    "- `Euribor`     :  kurs referensi harian yang mengacu pada rata-rata suku bunga yang ditawarkan oleh bankuntuk dipinjamkan dalam bentuk pinjaman tanpa jaminan kepada bank lainnya pada pasar uang euro."
   ]
  },
  {
   "cell_type": "markdown",
   "metadata": {},
   "source": [
    "<hr>"
   ]
  },
  {
   "cell_type": "markdown",
   "metadata": {},
   "source": [
    "# <i>Working Area<i>"
   ]
  },
  {
   "cell_type": "markdown",
   "metadata": {},
   "source": [
    "## 0. Download Library"
   ]
  },
  {
   "cell_type": "code",
   "execution_count": 115,
   "metadata": {},
   "outputs": [],
   "source": [
    "# !pip install requests --quiet\n",
    "# !pip install beautifulsoup4 --quiet\n",
    "# !pip install selenium --quiet\n",
    "# !pip install wget --quiet\n",
    "# !pip install zipfile36 --quiet\n",
    "# !pip install imbalanced-learn --quiet"
   ]
  },
  {
   "cell_type": "markdown",
   "metadata": {},
   "source": [
    "<hr>"
   ]
  },
  {
   "cell_type": "markdown",
   "metadata": {},
   "source": [
    "## 1. Import Library "
   ]
  },
  {
   "cell_type": "code",
   "execution_count": 1,
   "metadata": {},
   "outputs": [],
   "source": [
    "# cek status webpage\n",
    "import requests\n",
    "\n",
    "\n",
    "# scraping data\n",
    "from bs4 import BeautifulSoup\n",
    "from selenium import webdriver\n",
    "\n",
    "\n",
    "#download data\n",
    "import wget\n",
    "\n",
    "\n",
    "#ekstrak data\n",
    "import zipfile\n",
    "\n",
    "\n",
    "# membaca system\n",
    "import os\n",
    "\n",
    "\n",
    "# common libraries\n",
    "import pandas as pd\n",
    "import numpy as np\n",
    "import matplotlib.pyplot as plt\n",
    "import seaborn as sns\n",
    "import scipy.stats as stats\n",
    "import scipy\n",
    "from sklearn.model_selection import RandomizedSearchCV\n",
    "\n",
    "\n",
    "# preprocessing data \n",
    "from scipy import stats\n",
    "from sklearn import preprocessing\n",
    "from sklearn.model_selection import train_test_split\n",
    "from sklearn.preprocessing import OneHotEncoder\n",
    "from sklearn.preprocessing import MinMaxScaler\n",
    "from imblearn.over_sampling import RandomOverSampler\n",
    "from scipy.stats import chi2_contingency\n",
    "from scipy.stats import chisquare\n",
    "\n",
    "\n",
    "# model machine learning\n",
    "from sklearn.linear_model import LogisticRegression     # #Logistic Regression\n",
    "from sklearn.svm import SVC, SVR                        # SVC dan SVR\n",
    "from sklearn.tree import DecisionTreeClassifier         # Decision Tree\n",
    "from sklearn.ensemble import RandomForestClassifier     # Random Forest\n",
    "from sklearn.ensemble import RandomForestRegressor\n",
    "from sklearn.neighbors import KNeighborsClassifier      # KNN\n",
    "from sklearn.linear_model import Perceptron             # Perceptron\n",
    "from sklearn.naive_bayes import GaussianNB              # Naive Bayes\n",
    "from sklearn.naive_bayes import MultinomialNB\n",
    "\n",
    "\n",
    "# evalutation\n",
    "from sklearn.metrics import confusion_matrix\n",
    "from sklearn.metrics import accuracy_score\n",
    "from sklearn.metrics import classification_report\n",
    "from sklearn.model_selection import KFold \n",
    "from sklearn.model_selection import cross_val_score\n",
    "from sklearn.datasets import make_classification\n",
    "\n",
    "\n",
    "# ignore warning\n",
    "import warnings\n",
    "warnings.filterwarnings('ignore')\n",
    "warnings.filterwarnings(action=\"ignore\", message=\"^internal gelsd\")"
   ]
  },
  {
   "cell_type": "markdown",
   "metadata": {},
   "source": [
    "<hr>"
   ]
  },
  {
   "cell_type": "markdown",
   "metadata": {},
   "source": [
    "## 2.a Proses Mengambil Data Dari Web"
   ]
  },
  {
   "cell_type": "markdown",
   "metadata": {},
   "source": [
    "- Cek status web page, jika keluar <Response [200]> maka telah terkoneksi dengan page yang dituju, selain itu coba cek ulang"
   ]
  },
  {
   "cell_type": "code",
   "execution_count": 2,
   "metadata": {},
   "outputs": [
    {
     "data": {
      "text/plain": [
       "<Response [200]>"
      ]
     },
     "execution_count": 2,
     "metadata": {},
     "output_type": "execute_result"
    }
   ],
   "source": [
    "page = requests.get(\"https://archive.ics.uci.edu/ml/machine-learning-databases/00222/\")\n",
    "page"
   ]
  },
  {
   "cell_type": "markdown",
   "metadata": {},
   "source": [
    "- web scraping untuk mendapatkan info yang diinginkan"
   ]
  },
  {
   "cell_type": "code",
   "execution_count": null,
   "metadata": {},
   "outputs": [],
   "source": [
    "# webdriver sesuai dengan webbrowser yang digunakan\n",
    "driver = webdriver.Chrome('chromedriver') \n",
    "\n",
    "# mendefinisikan url untuk web scraping\n",
    "url=\"https://archive.ics.uci.edu/ml/machine-learning-databases/00222/\"\n",
    "driver.get(url)\n",
    "html = driver.page_source\n",
    "\n",
    "soup = BeautifulSoup(html, \"html.parser\")\n",
    "a_tag = soup.find('a')\n",
    "\n",
    "# mendapatkan link href yang dituju\n",
    "link = []\n",
    "\n",
    "for a in soup.find_all('a', href=True):\n",
    "    link.append(a['href'])"
   ]
  },
  {
   "cell_type": "code",
   "execution_count": null,
   "metadata": {},
   "outputs": [
    {
     "data": {
      "text/plain": [
       "'bank-additional.zip'"
      ]
     },
     "execution_count": 5,
     "metadata": {},
     "output_type": "execute_result"
    }
   ],
   "source": [
    "# download file \n",
    "download = url+link[1]\n",
    "wget.download(download)"
   ]
  },
  {
   "cell_type": "code",
   "execution_count": null,
   "metadata": {},
   "outputs": [],
   "source": [
    "# ekstrak file\n",
    "with zipfile.ZipFile(link[1]) as bank:\n",
    "    bank.extractall()"
   ]
  },
  {
   "cell_type": "code",
   "execution_count": null,
   "metadata": {},
   "outputs": [
    {
     "data": {
      "text/plain": [
       "['.git',\n",
       " '.github',\n",
       " 'bank-additional',\n",
       " 'bank-additional.zip',\n",
       " 'chromedriver.exe',\n",
       " 'h8dsft_Milestone1.ipynb',\n",
       " 'README.md',\n",
       " '__MACOSX']"
      ]
     },
     "execution_count": 7,
     "metadata": {},
     "output_type": "execute_result"
    }
   ],
   "source": [
    "# cek data pada directory\n",
    "os.listdir(os.getcwd())"
   ]
  },
  {
   "cell_type": "code",
   "execution_count": null,
   "metadata": {},
   "outputs": [],
   "source": [
    "# mengganti nama folder untuk mempermudah proses pembacaan\n",
    "os.rename(\"bank-additional\", \"Data\")"
   ]
  },
  {
   "cell_type": "code",
   "execution_count": null,
   "metadata": {},
   "outputs": [],
   "source": [
    "# mengganti directory / masuk ke directory Data\n",
    "os.chdir(os.getcwd()+'\\Data')"
   ]
  },
  {
   "cell_type": "code",
   "execution_count": 121,
   "metadata": {},
   "outputs": [],
   "source": [
    "# cek data pada directory\n",
    "data = []\n",
    "for i in os.listdir(os.getcwd()):\n",
    "    data.append(i)"
   ]
  },
  {
   "cell_type": "markdown",
   "metadata": {},
   "source": [
    "<hr>"
   ]
  },
  {
   "cell_type": "markdown",
   "metadata": {},
   "source": [
    "## 2.b Load Dataset"
   ]
  },
  {
   "cell_type": "code",
   "execution_count": 124,
   "metadata": {},
   "outputs": [],
   "source": [
    "data = pd.read_csv('bank-additional-full.csv', delimiter=';')"
   ]
  },
  {
   "cell_type": "code",
   "execution_count": 125,
   "metadata": {},
   "outputs": [
    {
     "data": {
      "text/html": [
       "<div>\n",
       "<style scoped>\n",
       "    .dataframe tbody tr th:only-of-type {\n",
       "        vertical-align: middle;\n",
       "    }\n",
       "\n",
       "    .dataframe tbody tr th {\n",
       "        vertical-align: top;\n",
       "    }\n",
       "\n",
       "    .dataframe thead th {\n",
       "        text-align: right;\n",
       "    }\n",
       "</style>\n",
       "<table border=\"1\" class=\"dataframe\">\n",
       "  <thead>\n",
       "    <tr style=\"text-align: right;\">\n",
       "      <th></th>\n",
       "      <th>age</th>\n",
       "      <th>job</th>\n",
       "      <th>marital</th>\n",
       "      <th>education</th>\n",
       "      <th>default</th>\n",
       "      <th>housing</th>\n",
       "      <th>loan</th>\n",
       "      <th>contact</th>\n",
       "      <th>month</th>\n",
       "      <th>day_of_week</th>\n",
       "      <th>...</th>\n",
       "      <th>campaign</th>\n",
       "      <th>pdays</th>\n",
       "      <th>previous</th>\n",
       "      <th>poutcome</th>\n",
       "      <th>emp.var.rate</th>\n",
       "      <th>cons.price.idx</th>\n",
       "      <th>cons.conf.idx</th>\n",
       "      <th>euribor3m</th>\n",
       "      <th>nr.employed</th>\n",
       "      <th>y</th>\n",
       "    </tr>\n",
       "  </thead>\n",
       "  <tbody>\n",
       "    <tr>\n",
       "      <th>0</th>\n",
       "      <td>56</td>\n",
       "      <td>housemaid</td>\n",
       "      <td>married</td>\n",
       "      <td>basic.4y</td>\n",
       "      <td>no</td>\n",
       "      <td>no</td>\n",
       "      <td>no</td>\n",
       "      <td>telephone</td>\n",
       "      <td>may</td>\n",
       "      <td>mon</td>\n",
       "      <td>...</td>\n",
       "      <td>1</td>\n",
       "      <td>999</td>\n",
       "      <td>0</td>\n",
       "      <td>nonexistent</td>\n",
       "      <td>1.1</td>\n",
       "      <td>93.994</td>\n",
       "      <td>-36.4</td>\n",
       "      <td>4.857</td>\n",
       "      <td>5191.0</td>\n",
       "      <td>no</td>\n",
       "    </tr>\n",
       "    <tr>\n",
       "      <th>1</th>\n",
       "      <td>57</td>\n",
       "      <td>services</td>\n",
       "      <td>married</td>\n",
       "      <td>high.school</td>\n",
       "      <td>unknown</td>\n",
       "      <td>no</td>\n",
       "      <td>no</td>\n",
       "      <td>telephone</td>\n",
       "      <td>may</td>\n",
       "      <td>mon</td>\n",
       "      <td>...</td>\n",
       "      <td>1</td>\n",
       "      <td>999</td>\n",
       "      <td>0</td>\n",
       "      <td>nonexistent</td>\n",
       "      <td>1.1</td>\n",
       "      <td>93.994</td>\n",
       "      <td>-36.4</td>\n",
       "      <td>4.857</td>\n",
       "      <td>5191.0</td>\n",
       "      <td>no</td>\n",
       "    </tr>\n",
       "    <tr>\n",
       "      <th>2</th>\n",
       "      <td>37</td>\n",
       "      <td>services</td>\n",
       "      <td>married</td>\n",
       "      <td>high.school</td>\n",
       "      <td>no</td>\n",
       "      <td>yes</td>\n",
       "      <td>no</td>\n",
       "      <td>telephone</td>\n",
       "      <td>may</td>\n",
       "      <td>mon</td>\n",
       "      <td>...</td>\n",
       "      <td>1</td>\n",
       "      <td>999</td>\n",
       "      <td>0</td>\n",
       "      <td>nonexistent</td>\n",
       "      <td>1.1</td>\n",
       "      <td>93.994</td>\n",
       "      <td>-36.4</td>\n",
       "      <td>4.857</td>\n",
       "      <td>5191.0</td>\n",
       "      <td>no</td>\n",
       "    </tr>\n",
       "    <tr>\n",
       "      <th>3</th>\n",
       "      <td>40</td>\n",
       "      <td>admin.</td>\n",
       "      <td>married</td>\n",
       "      <td>basic.6y</td>\n",
       "      <td>no</td>\n",
       "      <td>no</td>\n",
       "      <td>no</td>\n",
       "      <td>telephone</td>\n",
       "      <td>may</td>\n",
       "      <td>mon</td>\n",
       "      <td>...</td>\n",
       "      <td>1</td>\n",
       "      <td>999</td>\n",
       "      <td>0</td>\n",
       "      <td>nonexistent</td>\n",
       "      <td>1.1</td>\n",
       "      <td>93.994</td>\n",
       "      <td>-36.4</td>\n",
       "      <td>4.857</td>\n",
       "      <td>5191.0</td>\n",
       "      <td>no</td>\n",
       "    </tr>\n",
       "    <tr>\n",
       "      <th>4</th>\n",
       "      <td>56</td>\n",
       "      <td>services</td>\n",
       "      <td>married</td>\n",
       "      <td>high.school</td>\n",
       "      <td>no</td>\n",
       "      <td>no</td>\n",
       "      <td>yes</td>\n",
       "      <td>telephone</td>\n",
       "      <td>may</td>\n",
       "      <td>mon</td>\n",
       "      <td>...</td>\n",
       "      <td>1</td>\n",
       "      <td>999</td>\n",
       "      <td>0</td>\n",
       "      <td>nonexistent</td>\n",
       "      <td>1.1</td>\n",
       "      <td>93.994</td>\n",
       "      <td>-36.4</td>\n",
       "      <td>4.857</td>\n",
       "      <td>5191.0</td>\n",
       "      <td>no</td>\n",
       "    </tr>\n",
       "  </tbody>\n",
       "</table>\n",
       "<p>5 rows × 21 columns</p>\n",
       "</div>"
      ],
      "text/plain": [
       "   age        job  marital    education  default housing loan    contact  \\\n",
       "0   56  housemaid  married     basic.4y       no      no   no  telephone   \n",
       "1   57   services  married  high.school  unknown      no   no  telephone   \n",
       "2   37   services  married  high.school       no     yes   no  telephone   \n",
       "3   40     admin.  married     basic.6y       no      no   no  telephone   \n",
       "4   56   services  married  high.school       no      no  yes  telephone   \n",
       "\n",
       "  month day_of_week  ...  campaign  pdays  previous     poutcome emp.var.rate  \\\n",
       "0   may         mon  ...         1    999         0  nonexistent          1.1   \n",
       "1   may         mon  ...         1    999         0  nonexistent          1.1   \n",
       "2   may         mon  ...         1    999         0  nonexistent          1.1   \n",
       "3   may         mon  ...         1    999         0  nonexistent          1.1   \n",
       "4   may         mon  ...         1    999         0  nonexistent          1.1   \n",
       "\n",
       "   cons.price.idx  cons.conf.idx  euribor3m  nr.employed   y  \n",
       "0          93.994          -36.4      4.857       5191.0  no  \n",
       "1          93.994          -36.4      4.857       5191.0  no  \n",
       "2          93.994          -36.4      4.857       5191.0  no  \n",
       "3          93.994          -36.4      4.857       5191.0  no  \n",
       "4          93.994          -36.4      4.857       5191.0  no  \n",
       "\n",
       "[5 rows x 21 columns]"
      ]
     },
     "execution_count": 125,
     "metadata": {},
     "output_type": "execute_result"
    }
   ],
   "source": [
    "# data = pd.read_csv(data[-1], delimiter=';')\n",
    "df = data.copy()\n",
    "df.head()"
   ]
  },
  {
   "cell_type": "markdown",
   "metadata": {},
   "source": [
    "<hr>"
   ]
  },
  {
   "cell_type": "markdown",
   "metadata": {},
   "source": [
    "## 3. Analisis dan Visualisasi Data"
   ]
  },
  {
   "cell_type": "markdown",
   "metadata": {},
   "source": [
    "### memisahkan data numerik dan data kategorik"
   ]
  },
  {
   "cell_type": "code",
   "execution_count": 13,
   "metadata": {},
   "outputs": [
    {
     "name": "stdout",
     "output_type": "stream",
     "text": [
      "tipe data kategorik: ['job', 'marital', 'education', 'default', 'housing', 'loan', 'contact', 'month', 'day_of_week', 'poutcome', 'y'] \n",
      "\n",
      "tipe data numerik: ['age', 'duration', 'campaign', 'pdays', 'previous', 'emp.var.rate', 'cons.price.idx', 'cons.conf.idx', 'euribor3m', 'nr.employed']\n"
     ]
    }
   ],
   "source": [
    "kategorik = [ i for i in df.columns if df[i].dtype =='O']\n",
    "numerik = [i for i in df.columns if df[i].dtype !='O']\n",
    "print('tipe data kategorik:',kategorik, '\\n')\n",
    "print('tipe data numerik:',numerik)"
   ]
  },
  {
   "cell_type": "markdown",
   "metadata": {},
   "source": [
    "### Visualisai Data Numerik"
   ]
  },
  {
   "cell_type": "code",
   "execution_count": 14,
   "metadata": {},
   "outputs": [
    {
     "data": {
      "image/png": "[encoded data removed]",
      "text/plain": [
       "<Figure size 1440x1080 with 12 Axes>"
      ]
     },
     "metadata": {
      "needs_background": "light"
     },
     "output_type": "display_data"
    }
   ],
   "source": [
    "df[numerik].hist(bins=50, figsize=(20,15))\n",
    "plt.show()"
   ]
  },
  {
   "cell_type": "markdown",
   "metadata": {},
   "source": [
    "`terlihat bahwa semua data numerik memiliki distribusi skewness`"
   ]
  },
  {
   "cell_type": "markdown",
   "metadata": {},
   "source": [
    "### Visualisai Data Kategorik"
   ]
  },
  {
   "cell_type": "markdown",
   "metadata": {},
   "source": [
    "- membuat fungsi def agar memudahkan untuk memvisualisasikan data kategorik"
   ]
  },
  {
   "cell_type": "code",
   "execution_count": 15,
   "metadata": {},
   "outputs": [],
   "source": [
    "def countplot(x):\n",
    "    print(df[x].value_counts())\n",
    "    plt.figure(figsize=(18,2))\n",
    "    sns.countplot(x=x, data=df, palette='Set1').axes.set_title(i,fontsize=50)\n",
    "    plt.show()"
   ]
  },
  {
   "cell_type": "markdown",
   "metadata": {},
   "source": [
    "- proses visualisasi data kategorik"
   ]
  },
  {
   "cell_type": "code",
   "execution_count": 16,
   "metadata": {},
   "outputs": [
    {
     "name": "stdout",
     "output_type": "stream",
     "text": [
      "admin.           10422\n",
      "blue-collar       9254\n",
      "technician        6743\n",
      "services          3969\n",
      "management        2924\n",
      "retired           1720\n",
      "entrepreneur      1456\n",
      "self-employed     1421\n",
      "housemaid         1060\n",
      "unemployed        1014\n",
      "student            875\n",
      "unknown            330\n",
      "Name: job, dtype: int64\n"
     ]
    },
    {
     "data": {
      "image/png": "[encoded data removed]",
      "text/plain": [
       "<Figure size 1296x144 with 1 Axes>"
      ]
     },
     "metadata": {
      "needs_background": "light"
     },
     "output_type": "display_data"
    },
    {
     "name": "stdout",
     "output_type": "stream",
     "text": [
      "married     24928\n",
      "single      11568\n",
      "divorced     4612\n",
      "unknown        80\n",
      "Name: marital, dtype: int64\n"
     ]
    },
    {
     "data": {
      "image/png": "[encoded data removed]",
      "text/plain": [
       "<Figure size 1296x144 with 1 Axes>"
      ]
     },
     "metadata": {
      "needs_background": "light"
     },
     "output_type": "display_data"
    },
    {
     "name": "stdout",
     "output_type": "stream",
     "text": [
      "university.degree      12168\n",
      "high.school             9515\n",
      "basic.9y                6045\n",
      "professional.course     5243\n",
      "basic.4y                4176\n",
      "basic.6y                2292\n",
      "unknown                 1731\n",
      "illiterate                18\n",
      "Name: education, dtype: int64\n"
     ]
    },
    {
     "data": {
      "image/png": "[encoded data removed]",
      "text/plain": [
       "<Figure size 1296x144 with 1 Axes>"
      ]
     },
     "metadata": {
      "needs_background": "light"
     },
     "output_type": "display_data"
    },
    {
     "name": "stdout",
     "output_type": "stream",
     "text": [
      "no         32588\n",
      "unknown     8597\n",
      "yes            3\n",
      "Name: default, dtype: int64\n"
     ]
    },
    {
     "data": {
      "image/png": "[encoded data removed]",
      "text/plain": [
       "<Figure size 1296x144 with 1 Axes>"
      ]
     },
     "metadata": {
      "needs_background": "light"
     },
     "output_type": "display_data"
    },
    {
     "name": "stdout",
     "output_type": "stream",
     "text": [
      "yes        21576\n",
      "no         18622\n",
      "unknown      990\n",
      "Name: housing, dtype: int64\n"
     ]
    },
    {
     "data": {
      "image/png": "[encoded data removed]",
      "text/plain": [
       "<Figure size 1296x144 with 1 Axes>"
      ]
     },
     "metadata": {
      "needs_background": "light"
     },
     "output_type": "display_data"
    },
    {
     "name": "stdout",
     "output_type": "stream",
     "text": [
      "no         33950\n",
      "yes         6248\n",
      "unknown      990\n",
      "Name: loan, dtype: int64\n"
     ]
    },
    {
     "data": {
      "image/png": "[encoded data removed]",
      "text/plain": [
       "<Figure size 1296x144 with 1 Axes>"
      ]
     },
     "metadata": {
      "needs_background": "light"
     },
     "output_type": "display_data"
    },
    {
     "name": "stdout",
     "output_type": "stream",
     "text": [
      "cellular     26144\n",
      "telephone    15044\n",
      "Name: contact, dtype: int64\n"
     ]
    },
    {
     "data": {
      "image/png": "[encoded data removed]",
      "text/plain": [
       "<Figure size 1296x144 with 1 Axes>"
      ]
     },
     "metadata": {
      "needs_background": "light"
     },
     "output_type": "display_data"
    },
    {
     "name": "stdout",
     "output_type": "stream",
     "text": [
      "may    13769\n",
      "jul     7174\n",
      "aug     6178\n",
      "jun     5318\n",
      "nov     4101\n",
      "apr     2632\n",
      "oct      718\n",
      "sep      570\n",
      "mar      546\n",
      "dec      182\n",
      "Name: month, dtype: int64\n"
     ]
    },
    {
     "data": {
      "image/png": "[encoded data removed]",
      "text/plain": [
       "<Figure size 1296x144 with 1 Axes>"
      ]
     },
     "metadata": {
      "needs_background": "light"
     },
     "output_type": "display_data"
    },
    {
     "name": "stdout",
     "output_type": "stream",
     "text": [
      "thu    8623\n",
      "mon    8514\n",
      "wed    8134\n",
      "tue    8090\n",
      "fri    7827\n",
      "Name: day_of_week, dtype: int64\n"
     ]
    },
    {
     "data": {
      "image/png": "[encoded data removed]",
      "text/plain": [
       "<Figure size 1296x144 with 1 Axes>"
      ]
     },
     "metadata": {
      "needs_background": "light"
     },
     "output_type": "display_data"
    },
    {
     "name": "stdout",
     "output_type": "stream",
     "text": [
      "nonexistent    35563\n",
      "failure         4252\n",
      "success         1373\n",
      "Name: poutcome, dtype: int64\n"
     ]
    },
    {
     "data": {
      "image/png": "[encoded data removed]",
      "text/plain": [
       "<Figure size 1296x144 with 1 Axes>"
      ]
     },
     "metadata": {
      "needs_background": "light"
     },
     "output_type": "display_data"
    },
    {
     "name": "stdout",
     "output_type": "stream",
     "text": [
      "no     36548\n",
      "yes     4640\n",
      "Name: y, dtype: int64\n"
     ]
    },
    {
     "data": {
      "image/png": "[encoded data removed]",
      "text/plain": [
       "<Figure size 1296x144 with 1 Axes>"
      ]
     },
     "metadata": {
      "needs_background": "light"
     },
     "output_type": "display_data"
    }
   ],
   "source": [
    "for i in df[kategorik]:\n",
    "    countplot(i)"
   ]
  },
  {
   "cell_type": "markdown",
   "metadata": {},
   "source": [
    "`- untuk kolom 'job' value admin. akan saya ubah menjadi admin, ini dilakukan untuk mempermudah pengerjaan kedepannya`"
   ]
  },
  {
   "cell_type": "code",
   "execution_count": 17,
   "metadata": {},
   "outputs": [],
   "source": [
    "df.loc[df['job'] == 'admin.', 'job'] = 'admin'"
   ]
  },
  {
   "cell_type": "markdown",
   "metadata": {},
   "source": [
    "### Cek Korelasi antar variabel (fitur dan target)"
   ]
  },
  {
   "cell_type": "markdown",
   "metadata": {},
   "source": [
    "- membuat salinan data untuk proses pengecekan korelasi"
   ]
  },
  {
   "cell_type": "code",
   "execution_count": 18,
   "metadata": {},
   "outputs": [],
   "source": [
    "df_test = df.copy()"
   ]
  },
  {
   "cell_type": "markdown",
   "metadata": {},
   "source": [
    "- membuat fungsi untuk encoding data label / kolom y menggunakan label encoding"
   ]
  },
  {
   "cell_type": "code",
   "execution_count": 19,
   "metadata": {},
   "outputs": [],
   "source": [
    "def label(col):\n",
    "    label = preprocessing.LabelEncoder()\n",
    " \n",
    "    df_test[col]  = label.fit_transform(df_test[col])"
   ]
  },
  {
   "cell_type": "markdown",
   "metadata": {},
   "source": [
    "- menjalankan proses encoding label y"
   ]
  },
  {
   "cell_type": "code",
   "execution_count": 20,
   "metadata": {},
   "outputs": [],
   "source": [
    "label('y')"
   ]
  },
  {
   "cell_type": "markdown",
   "metadata": {},
   "source": [
    "- cek korelasi dataset"
   ]
  },
  {
   "cell_type": "code",
   "execution_count": 21,
   "metadata": {},
   "outputs": [
    {
     "data": {
      "text/html": [
       "<div>\n",
       "<style scoped>\n",
       "    .dataframe tbody tr th:only-of-type {\n",
       "        vertical-align: middle;\n",
       "    }\n",
       "\n",
       "    .dataframe tbody tr th {\n",
       "        vertical-align: top;\n",
       "    }\n",
       "\n",
       "    .dataframe thead th {\n",
       "        text-align: right;\n",
       "    }\n",
       "</style>\n",
       "<table border=\"1\" class=\"dataframe\">\n",
       "  <thead>\n",
       "    <tr style=\"text-align: right;\">\n",
       "      <th></th>\n",
       "      <th>age</th>\n",
       "      <th>duration</th>\n",
       "      <th>campaign</th>\n",
       "      <th>pdays</th>\n",
       "      <th>previous</th>\n",
       "      <th>emp.var.rate</th>\n",
       "      <th>cons.price.idx</th>\n",
       "      <th>cons.conf.idx</th>\n",
       "      <th>euribor3m</th>\n",
       "      <th>nr.employed</th>\n",
       "      <th>y</th>\n",
       "    </tr>\n",
       "  </thead>\n",
       "  <tbody>\n",
       "    <tr>\n",
       "      <th>age</th>\n",
       "      <td>1.000000</td>\n",
       "      <td>-0.000866</td>\n",
       "      <td>0.004594</td>\n",
       "      <td>-0.034369</td>\n",
       "      <td>0.024365</td>\n",
       "      <td>-0.000371</td>\n",
       "      <td>0.000857</td>\n",
       "      <td>0.129372</td>\n",
       "      <td>0.010767</td>\n",
       "      <td>-0.017725</td>\n",
       "      <td>0.030399</td>\n",
       "    </tr>\n",
       "    <tr>\n",
       "      <th>duration</th>\n",
       "      <td>-0.000866</td>\n",
       "      <td>1.000000</td>\n",
       "      <td>-0.071699</td>\n",
       "      <td>-0.047577</td>\n",
       "      <td>0.020640</td>\n",
       "      <td>-0.027968</td>\n",
       "      <td>0.005312</td>\n",
       "      <td>-0.008173</td>\n",
       "      <td>-0.032897</td>\n",
       "      <td>-0.044703</td>\n",
       "      <td>0.405274</td>\n",
       "    </tr>\n",
       "    <tr>\n",
       "      <th>campaign</th>\n",
       "      <td>0.004594</td>\n",
       "      <td>-0.071699</td>\n",
       "      <td>1.000000</td>\n",
       "      <td>0.052584</td>\n",
       "      <td>-0.079141</td>\n",
       "      <td>0.150754</td>\n",
       "      <td>0.127836</td>\n",
       "      <td>-0.013733</td>\n",
       "      <td>0.135133</td>\n",
       "      <td>0.144095</td>\n",
       "      <td>-0.066357</td>\n",
       "    </tr>\n",
       "    <tr>\n",
       "      <th>pdays</th>\n",
       "      <td>-0.034369</td>\n",
       "      <td>-0.047577</td>\n",
       "      <td>0.052584</td>\n",
       "      <td>1.000000</td>\n",
       "      <td>-0.587514</td>\n",
       "      <td>0.271004</td>\n",
       "      <td>0.078889</td>\n",
       "      <td>-0.091342</td>\n",
       "      <td>0.296899</td>\n",
       "      <td>0.372605</td>\n",
       "      <td>-0.324914</td>\n",
       "    </tr>\n",
       "    <tr>\n",
       "      <th>previous</th>\n",
       "      <td>0.024365</td>\n",
       "      <td>0.020640</td>\n",
       "      <td>-0.079141</td>\n",
       "      <td>-0.587514</td>\n",
       "      <td>1.000000</td>\n",
       "      <td>-0.420489</td>\n",
       "      <td>-0.203130</td>\n",
       "      <td>-0.050936</td>\n",
       "      <td>-0.454494</td>\n",
       "      <td>-0.501333</td>\n",
       "      <td>0.230181</td>\n",
       "    </tr>\n",
       "    <tr>\n",
       "      <th>emp.var.rate</th>\n",
       "      <td>-0.000371</td>\n",
       "      <td>-0.027968</td>\n",
       "      <td>0.150754</td>\n",
       "      <td>0.271004</td>\n",
       "      <td>-0.420489</td>\n",
       "      <td>1.000000</td>\n",
       "      <td>0.775334</td>\n",
       "      <td>0.196041</td>\n",
       "      <td>0.972245</td>\n",
       "      <td>0.906970</td>\n",
       "      <td>-0.298334</td>\n",
       "    </tr>\n",
       "    <tr>\n",
       "      <th>cons.price.idx</th>\n",
       "      <td>0.000857</td>\n",
       "      <td>0.005312</td>\n",
       "      <td>0.127836</td>\n",
       "      <td>0.078889</td>\n",
       "      <td>-0.203130</td>\n",
       "      <td>0.775334</td>\n",
       "      <td>1.000000</td>\n",
       "      <td>0.058986</td>\n",
       "      <td>0.688230</td>\n",
       "      <td>0.522034</td>\n",
       "      <td>-0.136211</td>\n",
       "    </tr>\n",
       "    <tr>\n",
       "      <th>cons.conf.idx</th>\n",
       "      <td>0.129372</td>\n",
       "      <td>-0.008173</td>\n",
       "      <td>-0.013733</td>\n",
       "      <td>-0.091342</td>\n",
       "      <td>-0.050936</td>\n",
       "      <td>0.196041</td>\n",
       "      <td>0.058986</td>\n",
       "      <td>1.000000</td>\n",
       "      <td>0.277686</td>\n",
       "      <td>0.100513</td>\n",
       "      <td>0.054878</td>\n",
       "    </tr>\n",
       "    <tr>\n",
       "      <th>euribor3m</th>\n",
       "      <td>0.010767</td>\n",
       "      <td>-0.032897</td>\n",
       "      <td>0.135133</td>\n",
       "      <td>0.296899</td>\n",
       "      <td>-0.454494</td>\n",
       "      <td>0.972245</td>\n",
       "      <td>0.688230</td>\n",
       "      <td>0.277686</td>\n",
       "      <td>1.000000</td>\n",
       "      <td>0.945154</td>\n",
       "      <td>-0.307771</td>\n",
       "    </tr>\n",
       "    <tr>\n",
       "      <th>nr.employed</th>\n",
       "      <td>-0.017725</td>\n",
       "      <td>-0.044703</td>\n",
       "      <td>0.144095</td>\n",
       "      <td>0.372605</td>\n",
       "      <td>-0.501333</td>\n",
       "      <td>0.906970</td>\n",
       "      <td>0.522034</td>\n",
       "      <td>0.100513</td>\n",
       "      <td>0.945154</td>\n",
       "      <td>1.000000</td>\n",
       "      <td>-0.354678</td>\n",
       "    </tr>\n",
       "    <tr>\n",
       "      <th>y</th>\n",
       "      <td>0.030399</td>\n",
       "      <td>0.405274</td>\n",
       "      <td>-0.066357</td>\n",
       "      <td>-0.324914</td>\n",
       "      <td>0.230181</td>\n",
       "      <td>-0.298334</td>\n",
       "      <td>-0.136211</td>\n",
       "      <td>0.054878</td>\n",
       "      <td>-0.307771</td>\n",
       "      <td>-0.354678</td>\n",
       "      <td>1.000000</td>\n",
       "    </tr>\n",
       "  </tbody>\n",
       "</table>\n",
       "</div>"
      ],
      "text/plain": [
       "                     age  duration  campaign     pdays  previous  \\\n",
       "age             1.000000 -0.000866  0.004594 -0.034369  0.024365   \n",
       "duration       -0.000866  1.000000 -0.071699 -0.047577  0.020640   \n",
       "campaign        0.004594 -0.071699  1.000000  0.052584 -0.079141   \n",
       "pdays          -0.034369 -0.047577  0.052584  1.000000 -0.587514   \n",
       "previous        0.024365  0.020640 -0.079141 -0.587514  1.000000   \n",
       "emp.var.rate   -0.000371 -0.027968  0.150754  0.271004 -0.420489   \n",
       "cons.price.idx  0.000857  0.005312  0.127836  0.078889 -0.203130   \n",
       "cons.conf.idx   0.129372 -0.008173 -0.013733 -0.091342 -0.050936   \n",
       "euribor3m       0.010767 -0.032897  0.135133  0.296899 -0.454494   \n",
       "nr.employed    -0.017725 -0.044703  0.144095  0.372605 -0.501333   \n",
       "y               0.030399  0.405274 -0.066357 -0.324914  0.230181   \n",
       "\n",
       "                emp.var.rate  cons.price.idx  cons.conf.idx  euribor3m  \\\n",
       "age                -0.000371        0.000857       0.129372   0.010767   \n",
       "duration           -0.027968        0.005312      -0.008173  -0.032897   \n",
       "campaign            0.150754        0.127836      -0.013733   0.135133   \n",
       "pdays               0.271004        0.078889      -0.091342   0.296899   \n",
       "previous           -0.420489       -0.203130      -0.050936  -0.454494   \n",
       "emp.var.rate        1.000000        0.775334       0.196041   0.972245   \n",
       "cons.price.idx      0.775334        1.000000       0.058986   0.688230   \n",
       "cons.conf.idx       0.196041        0.058986       1.000000   0.277686   \n",
       "euribor3m           0.972245        0.688230       0.277686   1.000000   \n",
       "nr.employed         0.906970        0.522034       0.100513   0.945154   \n",
       "y                  -0.298334       -0.136211       0.054878  -0.307771   \n",
       "\n",
       "                nr.employed         y  \n",
       "age               -0.017725  0.030399  \n",
       "duration          -0.044703  0.405274  \n",
       "campaign           0.144095 -0.066357  \n",
       "pdays              0.372605 -0.324914  \n",
       "previous          -0.501333  0.230181  \n",
       "emp.var.rate       0.906970 -0.298334  \n",
       "cons.price.idx     0.522034 -0.136211  \n",
       "cons.conf.idx      0.100513  0.054878  \n",
       "euribor3m          0.945154 -0.307771  \n",
       "nr.employed        1.000000 -0.354678  \n",
       "y                 -0.354678  1.000000  "
      ]
     },
     "execution_count": 21,
     "metadata": {},
     "output_type": "execute_result"
    }
   ],
   "source": [
    "korelasi = df_test.corr()\n",
    "korelasi"
   ]
  },
  {
   "cell_type": "code",
   "execution_count": 22,
   "metadata": {},
   "outputs": [
    {
     "data": {
      "text/plain": [
       "<AxesSubplot:>"
      ]
     },
     "execution_count": 22,
     "metadata": {},
     "output_type": "execute_result"
    },
    {
     "data": {
      "image/png": "[encoded data removed]",
      "text/plain": [
       "<Figure size 864x504 with 2 Axes>"
      ]
     },
     "metadata": {
      "needs_background": "light"
     },
     "output_type": "display_data"
    }
   ],
   "source": [
    "plt.figure(figsize=(12,7))\n",
    "\n",
    "sns.heatmap(korelasi, annot=True, fmt='.2f')"
   ]
  },
  {
   "cell_type": "markdown",
   "metadata": {},
   "source": [
    "`Untuk korelasi ini saya akan kelompokkan menjadi 3 kategori:`\n",
    "1. `data dengan korelasi diatas 0.2, adalah jenis data yang memiliki korelasi berbanding lurus dengan label, yang artinya semakin naik nilai variabel maka nilai label juga akan naik.`\n",
    "#\n",
    "2. `data dengan korelasi diantara 0.2 sampai -0.2, adalah jenis data yang tidak terlalu berkorelasi dengan label yang artinya ada atau tidaknya data tersebut tidak akan mempengaruhi label secara significant.`\n",
    "#\n",
    "3. `data dengan korelasi dibawah -0.2, adalah jenis data yang memiliki korelasi berbanding terbalik dengan label, yang artinya semakin naik nilai label maka semakin turun nilai variabelnya.` \n",
    "\n",
    "`data yang akan diambil atau digunakan adalah kategori 1 dan 3, diantaranya ; duration, pdays, previous, emp.var.rate, euribor3m, nr.employed`"
   ]
  },
  {
   "cell_type": "markdown",
   "metadata": {},
   "source": [
    "<hr>"
   ]
  },
  {
   "cell_type": "markdown",
   "metadata": {},
   "source": [
    "## 4. Preprocessing"
   ]
  },
  {
   "cell_type": "markdown",
   "metadata": {},
   "source": [
    "### Cek Missing Value"
   ]
  },
  {
   "cell_type": "markdown",
   "metadata": {},
   "source": [
    "- sebelum data di split ada baiknya cek <i>` missing value  `</i> pada dataset"
   ]
  },
  {
   "cell_type": "code",
   "execution_count": 23,
   "metadata": {},
   "outputs": [
    {
     "data": {
      "text/plain": [
       "age               0\n",
       "job               0\n",
       "marital           0\n",
       "education         0\n",
       "default           0\n",
       "housing           0\n",
       "loan              0\n",
       "contact           0\n",
       "month             0\n",
       "day_of_week       0\n",
       "duration          0\n",
       "campaign          0\n",
       "pdays             0\n",
       "previous          0\n",
       "poutcome          0\n",
       "emp.var.rate      0\n",
       "cons.price.idx    0\n",
       "cons.conf.idx     0\n",
       "euribor3m         0\n",
       "nr.employed       0\n",
       "y                 0\n",
       "dtype: int64"
      ]
     },
     "execution_count": 23,
     "metadata": {},
     "output_type": "execute_result"
    }
   ],
   "source": [
    "df.isnull().sum()"
   ]
  },
  {
   "cell_type": "markdown",
   "metadata": {},
   "source": [
    "`tidak terdapat missing value`"
   ]
  },
  {
   "cell_type": "markdown",
   "metadata": {},
   "source": [
    "### Membagi data menjadi label dan fitur"
   ]
  },
  {
   "cell_type": "code",
   "execution_count": 24,
   "metadata": {},
   "outputs": [],
   "source": [
    "X = df.drop('y', axis=1)       # fitur\n",
    "y = df['y']                    # label"
   ]
  },
  {
   "cell_type": "markdown",
   "metadata": {},
   "source": [
    "### Cek keseimbangan jumlah data"
   ]
  },
  {
   "cell_type": "code",
   "execution_count": 25,
   "metadata": {},
   "outputs": [
    {
     "data": {
      "text/plain": [
       "no     36548\n",
       "yes     4640\n",
       "Name: y, dtype: int64"
      ]
     },
     "execution_count": 25,
     "metadata": {},
     "output_type": "execute_result"
    }
   ],
   "source": [
    "y.value_counts()"
   ]
  },
  {
   "cell_type": "code",
   "execution_count": 26,
   "metadata": {},
   "outputs": [
    {
     "data": {
      "image/png": "[encoded data removed]",
      "text/plain": [
       "<Figure size 432x288 with 1 Axes>"
      ]
     },
     "metadata": {},
     "output_type": "display_data"
    }
   ],
   "source": [
    "ax = y.value_counts().plot.pie(autopct='%.2f')\n",
    "_ = ax.set_title(\"Before Balancing\")"
   ]
  },
  {
   "cell_type": "markdown",
   "metadata": {},
   "source": [
    "`berdasarkan data dari visualisasi, terdapat imbalance data pada label`\n",
    "- `value yes (11.27 % dari total data atau sebanyak 4640)`\n",
    "- `value no  (88.73 % dari total data atau sebanyak 36548)`\n",
    "\n",
    "`oleh karena itu akan dilakukan proses `<i>balancing </i>` dengan metode `<i> Random Oversampling</i>"
   ]
  },
  {
   "cell_type": "code",
   "execution_count": 27,
   "metadata": {},
   "outputs": [],
   "source": [
    "ros = RandomOverSampler(sampling_strategy=\"not majority\") # String\n",
    "X_ros, y_ros = ros.fit_resample(X, y)"
   ]
  },
  {
   "cell_type": "code",
   "execution_count": 28,
   "metadata": {},
   "outputs": [
    {
     "data": {
      "text/plain": [
       "no     36548\n",
       "yes    36548\n",
       "Name: y, dtype: int64"
      ]
     },
     "execution_count": 28,
     "metadata": {},
     "output_type": "execute_result"
    }
   ],
   "source": [
    "y_ros.value_counts()"
   ]
  },
  {
   "cell_type": "code",
   "execution_count": 29,
   "metadata": {},
   "outputs": [
    {
     "data": {
      "image/png": "[encoded data removed]",
      "text/plain": [
       "<Figure size 432x288 with 1 Axes>"
      ]
     },
     "metadata": {},
     "output_type": "display_data"
    }
   ],
   "source": [
    "ax = y_ros.value_counts().plot.pie(autopct='%.2f')\n",
    "_ = ax.set_title(\"Over-sampling\")"
   ]
  },
  {
   "cell_type": "markdown",
   "metadata": {},
   "source": [
    "`Setelah dilakukan balancing, jumlah proporsi data telah sama yaitu 50% dengan jumlah masing-masing 36548`"
   ]
  },
  {
   "cell_type": "markdown",
   "metadata": {},
   "source": [
    "### Membagi data menjadi data train dan data test"
   ]
  },
  {
   "cell_type": "code",
   "execution_count": 30,
   "metadata": {},
   "outputs": [
    {
     "name": "stdout",
     "output_type": "stream",
     "text": [
      "Train set: (58476, 20) (58476,)\n",
      "Test set: (14620, 20) (14620,)\n"
     ]
    }
   ],
   "source": [
    "X_train, X_test, y_train, y_test = train_test_split(X_ros, y_ros, test_size=0.2, random_state=2)\n",
    "\n",
    "print ('Train set:', X_train.shape,  y_train.shape)\n",
    "print ('Test set:', X_test.shape,  y_test.shape)"
   ]
  },
  {
   "cell_type": "markdown",
   "metadata": {},
   "source": [
    "### Cek Outliers"
   ]
  },
  {
   "cell_type": "markdown",
   "metadata": {},
   "source": [
    "- cek statistik dasar pada dataset"
   ]
  },
  {
   "cell_type": "code",
   "execution_count": 31,
   "metadata": {},
   "outputs": [
    {
     "data": {
      "text/html": [
       "<div>\n",
       "<style scoped>\n",
       "    .dataframe tbody tr th:only-of-type {\n",
       "        vertical-align: middle;\n",
       "    }\n",
       "\n",
       "    .dataframe tbody tr th {\n",
       "        vertical-align: top;\n",
       "    }\n",
       "\n",
       "    .dataframe thead th {\n",
       "        text-align: right;\n",
       "    }\n",
       "</style>\n",
       "<table border=\"1\" class=\"dataframe\">\n",
       "  <thead>\n",
       "    <tr style=\"text-align: right;\">\n",
       "      <th></th>\n",
       "      <th>age</th>\n",
       "      <th>duration</th>\n",
       "      <th>campaign</th>\n",
       "      <th>pdays</th>\n",
       "      <th>previous</th>\n",
       "      <th>emp.var.rate</th>\n",
       "      <th>cons.price.idx</th>\n",
       "      <th>cons.conf.idx</th>\n",
       "      <th>euribor3m</th>\n",
       "      <th>nr.employed</th>\n",
       "    </tr>\n",
       "  </thead>\n",
       "  <tbody>\n",
       "    <tr>\n",
       "      <th>median</th>\n",
       "      <td>38.000000</td>\n",
       "      <td>265.000000</td>\n",
       "      <td>2.000000</td>\n",
       "      <td>999.000000</td>\n",
       "      <td>0.000000</td>\n",
       "      <td>-0.100000</td>\n",
       "      <td>93.444000</td>\n",
       "      <td>-41.800000</td>\n",
       "      <td>4.021000</td>\n",
       "      <td>5191.000000</td>\n",
       "    </tr>\n",
       "    <tr>\n",
       "      <th>count</th>\n",
       "      <td>58476.000000</td>\n",
       "      <td>58476.000000</td>\n",
       "      <td>58476.000000</td>\n",
       "      <td>58476.000000</td>\n",
       "      <td>58476.000000</td>\n",
       "      <td>58476.000000</td>\n",
       "      <td>58476.000000</td>\n",
       "      <td>58476.000000</td>\n",
       "      <td>58476.000000</td>\n",
       "      <td>58476.000000</td>\n",
       "    </tr>\n",
       "    <tr>\n",
       "      <th>mean</th>\n",
       "      <td>40.389442</td>\n",
       "      <td>387.315548</td>\n",
       "      <td>2.337078</td>\n",
       "      <td>888.368442</td>\n",
       "      <td>0.309871</td>\n",
       "      <td>-0.487002</td>\n",
       "      <td>93.481417</td>\n",
       "      <td>-40.228106</td>\n",
       "      <td>2.969188</td>\n",
       "      <td>5135.714650</td>\n",
       "    </tr>\n",
       "    <tr>\n",
       "      <th>std</th>\n",
       "      <td>11.988483</td>\n",
       "      <td>357.588303</td>\n",
       "      <td>2.387107</td>\n",
       "      <td>312.440959</td>\n",
       "      <td>0.692266</td>\n",
       "      <td>1.719195</td>\n",
       "      <td>0.632215</td>\n",
       "      <td>5.335709</td>\n",
       "      <td>1.889668</td>\n",
       "      <td>87.056578</td>\n",
       "    </tr>\n",
       "    <tr>\n",
       "      <th>min</th>\n",
       "      <td>17.000000</td>\n",
       "      <td>0.000000</td>\n",
       "      <td>1.000000</td>\n",
       "      <td>0.000000</td>\n",
       "      <td>0.000000</td>\n",
       "      <td>-3.400000</td>\n",
       "      <td>92.201000</td>\n",
       "      <td>-50.800000</td>\n",
       "      <td>0.634000</td>\n",
       "      <td>4963.600000</td>\n",
       "    </tr>\n",
       "    <tr>\n",
       "      <th>25%</th>\n",
       "      <td>31.000000</td>\n",
       "      <td>144.000000</td>\n",
       "      <td>1.000000</td>\n",
       "      <td>999.000000</td>\n",
       "      <td>0.000000</td>\n",
       "      <td>-1.800000</td>\n",
       "      <td>92.893000</td>\n",
       "      <td>-42.700000</td>\n",
       "      <td>1.244000</td>\n",
       "      <td>5076.200000</td>\n",
       "    </tr>\n",
       "    <tr>\n",
       "      <th>50%</th>\n",
       "      <td>38.000000</td>\n",
       "      <td>265.000000</td>\n",
       "      <td>2.000000</td>\n",
       "      <td>999.000000</td>\n",
       "      <td>0.000000</td>\n",
       "      <td>-0.100000</td>\n",
       "      <td>93.444000</td>\n",
       "      <td>-41.800000</td>\n",
       "      <td>4.021000</td>\n",
       "      <td>5191.000000</td>\n",
       "    </tr>\n",
       "    <tr>\n",
       "      <th>75%</th>\n",
       "      <td>48.000000</td>\n",
       "      <td>527.000000</td>\n",
       "      <td>3.000000</td>\n",
       "      <td>999.000000</td>\n",
       "      <td>0.000000</td>\n",
       "      <td>1.400000</td>\n",
       "      <td>93.994000</td>\n",
       "      <td>-36.400000</td>\n",
       "      <td>4.959000</td>\n",
       "      <td>5228.100000</td>\n",
       "    </tr>\n",
       "    <tr>\n",
       "      <th>max</th>\n",
       "      <td>98.000000</td>\n",
       "      <td>4199.000000</td>\n",
       "      <td>56.000000</td>\n",
       "      <td>999.000000</td>\n",
       "      <td>7.000000</td>\n",
       "      <td>1.400000</td>\n",
       "      <td>94.767000</td>\n",
       "      <td>-26.900000</td>\n",
       "      <td>5.045000</td>\n",
       "      <td>5228.100000</td>\n",
       "    </tr>\n",
       "  </tbody>\n",
       "</table>\n",
       "</div>"
      ],
      "text/plain": [
       "                 age      duration      campaign         pdays      previous  \\\n",
       "median     38.000000    265.000000      2.000000    999.000000      0.000000   \n",
       "count   58476.000000  58476.000000  58476.000000  58476.000000  58476.000000   \n",
       "mean       40.389442    387.315548      2.337078    888.368442      0.309871   \n",
       "std        11.988483    357.588303      2.387107    312.440959      0.692266   \n",
       "min        17.000000      0.000000      1.000000      0.000000      0.000000   \n",
       "25%        31.000000    144.000000      1.000000    999.000000      0.000000   \n",
       "50%        38.000000    265.000000      2.000000    999.000000      0.000000   \n",
       "75%        48.000000    527.000000      3.000000    999.000000      0.000000   \n",
       "max        98.000000   4199.000000     56.000000    999.000000      7.000000   \n",
       "\n",
       "        emp.var.rate  cons.price.idx  cons.conf.idx     euribor3m  \\\n",
       "median     -0.100000       93.444000     -41.800000      4.021000   \n",
       "count   58476.000000    58476.000000   58476.000000  58476.000000   \n",
       "mean       -0.487002       93.481417     -40.228106      2.969188   \n",
       "std         1.719195        0.632215       5.335709      1.889668   \n",
       "min        -3.400000       92.201000     -50.800000      0.634000   \n",
       "25%        -1.800000       92.893000     -42.700000      1.244000   \n",
       "50%        -0.100000       93.444000     -41.800000      4.021000   \n",
       "75%         1.400000       93.994000     -36.400000      4.959000   \n",
       "max         1.400000       94.767000     -26.900000      5.045000   \n",
       "\n",
       "         nr.employed  \n",
       "median   5191.000000  \n",
       "count   58476.000000  \n",
       "mean     5135.714650  \n",
       "std        87.056578  \n",
       "min      4963.600000  \n",
       "25%      5076.200000  \n",
       "50%      5191.000000  \n",
       "75%      5228.100000  \n",
       "max      5228.100000  "
      ]
     },
     "execution_count": 31,
     "metadata": {},
     "output_type": "execute_result"
    }
   ],
   "source": [
    "tengah = [] #list kosong\n",
    "\n",
    "# looping untuk mencetak median dari [numerik] dan dimasukkan ke list tengah\n",
    "for i in X_train[numerik].columns:\n",
    "    tengah.append(X_train[numerik][i].median())\n",
    "\n",
    "# ubah list tengah menjadi dataframe lalu di transpose \n",
    "med = pd.DataFrame(tengah).transpose()\n",
    "\n",
    "# mengubah nama kolom\n",
    "med.rename(columns={0:'age', 1: 'duration', 2:'campaign',3: 'pdays',4: 'previous',5: 'emp.var.rate',\n",
    "       6: 'cons.price.idx',7: 'cons.conf.idx',8: 'euribor3m',9: 'nr.employed' }, inplace=True)\n",
    "\n",
    "#menggabungkan describe() dengan med\n",
    "desk = X_train.describe()\n",
    "desc = pd.concat([med, desk], axis=0).rename(index={0:'median'})\n",
    "desc"
   ]
  },
  {
   "cell_type": "markdown",
   "metadata": {},
   "source": [
    "- cek outliers melaluii visualisasi"
   ]
  },
  {
   "cell_type": "code",
   "execution_count": 32,
   "metadata": {},
   "outputs": [
    {
     "data": {
      "image/png": "[encoded data removed]",
      "text/plain": [
       "<Figure size 1440x1440 with 10 Axes>"
      ]
     },
     "metadata": {
      "needs_background": "light"
     },
     "output_type": "display_data"
    }
   ],
   "source": [
    "fig = plt.figure()\n",
    "fig.set_size_inches(20, 20)\n",
    "fig.subplots_adjust(hspace=0.5, wspace=0.6)\n",
    "\n",
    "jum = 1\n",
    "for i in range(len(X_train[numerik].columns)):\n",
    "    ax = fig.add_subplot(5, 2, jum)\n",
    "    sns.boxplot(x= X_train[numerik].columns[i], data=df)\n",
    "    # plt.title(X_train[numerik].columns[i])\n",
    "    jum+= 1"
   ]
  },
  {
   "cell_type": "markdown",
   "metadata": {},
   "source": [
    "- cek data outlier"
   ]
  },
  {
   "cell_type": "code",
   "execution_count": 33,
   "metadata": {},
   "outputs": [],
   "source": [
    "def cek_iqr(df, x):\n",
    "    q1 = df[x].quantile(0.25) # 25% percentile\n",
    "    q3 = df[x].quantile(0.75) # 75% percentile\n",
    "    \n",
    "    IQR = q3-q1\n",
    "    bawah  = q1-1.5*IQR\n",
    "    atas = q3+1.5*IQR\n",
    "    \n",
    "    return IQR, bawah, atas\n",
    "\n",
    "\n",
    "# fungsi untuk mengecek data outlier\n",
    "\n",
    "def cek_outlier(df, col):   \n",
    "    iqr, bawah, atas = cek_iqr(df,col)\n",
    "    return df[(df[col] < bawah) | (df[col] > atas)]\n",
    "\n",
    "# fungsi untuk menghapus outlier\n",
    "\n",
    "def hapus_outlier(df, col):\n",
    "    iqr, bawah, atas = cek_iqr(df,col)\n",
    "    df.drop(df[ (df[col] < bawah) | (df[col] > atas) ].index, inplace=True)\n",
    "    \n",
    "# fungsi untuk mengganti nilai outlier\n",
    "\n",
    "def ganti_outlier_median(df, col):\n",
    "    iqr, bawah, atas = cek_iqr(df,col)\n",
    "    df[col] = np.where(df[col] > atas , df[col].median(), df[col])\n",
    "    df[col] = np.where(df[col] < bawah, df[col].median(), df[col])  \n"
   ]
  },
  {
   "cell_type": "markdown",
   "metadata": {},
   "source": [
    "`membuat fungsi untuk diaplikasikan di outliers, namun setiap fitur memiliki kondisi yang berbeda sehingga terkadang fungsi akan digunakan`"
   ]
  },
  {
   "cell_type": "code",
   "execution_count": 34,
   "metadata": {},
   "outputs": [
    {
     "name": "stdout",
     "output_type": "stream",
     "text": [
      "fitur age  : outlier 1093\n",
      "fitur duration  : outlier 2852\n",
      "fitur campaign  : outlier 2549\n",
      "fitur pdays  : outlier 6515\n",
      "fitur previous  : outlier 12668\n",
      "fitur emp.var.rate  : outlier 0\n",
      "fitur cons.price.idx  : outlier 0\n",
      "fitur cons.conf.idx  : outlier 1273\n",
      "fitur euribor3m  : outlier 0\n",
      "fitur nr.employed  : outlier 0\n"
     ]
    }
   ],
   "source": [
    "for i in X_train[numerik]:\n",
    "    print('fitur',i,' : outlier', cek_outlier(X_train, i)[i].size)"
   ]
  },
  {
   "cell_type": "markdown",
   "metadata": {},
   "source": [
    "### <i>Handling outliers</i>"
   ]
  },
  {
   "cell_type": "markdown",
   "metadata": {},
   "source": [
    "- fitur yang memiliki outlier ada 6 fitur, diantaranya age, duration, campaign, pdays, previous, dan cons.conf.idx\n",
    "- namun, yang akan di modifikasi hanya 3 yaitu duration, pdays dan previous\n",
    "- penanganan pada setiap fitur akan berbeda tergantung situasi dan kondisi fitur"
   ]
  },
  {
   "cell_type": "markdown",
   "metadata": {},
   "source": [
    "- `fitur duration`"
   ]
  },
  {
   "cell_type": "code",
   "execution_count": 35,
   "metadata": {},
   "outputs": [],
   "source": [
    "ganti_outlier_median(X_train, 'duration')"
   ]
  },
  {
   "cell_type": "markdown",
   "metadata": {},
   "source": [
    "- `fitur previous`"
   ]
  },
  {
   "cell_type": "code",
   "execution_count": 36,
   "metadata": {},
   "outputs": [],
   "source": [
    "ganti_outlier_median(X_train, 'previous')"
   ]
  },
  {
   "cell_type": "markdown",
   "metadata": {},
   "source": [
    "- `fitur pdays`"
   ]
  },
  {
   "cell_type": "code",
   "execution_count": 37,
   "metadata": {},
   "outputs": [],
   "source": [
    "ganti_outlier_median(X_train, 'pdays')"
   ]
  },
  {
   "cell_type": "markdown",
   "metadata": {},
   "source": [
    "### <i>Feature selection</i>"
   ]
  },
  {
   "cell_type": "markdown",
   "metadata": {},
   "source": [
    "- `Numerical feature selection`"
   ]
  },
  {
   "cell_type": "markdown",
   "metadata": {},
   "source": [
    "<i>numerikan feature selection</i> di pilih berdasarkan korelasi yang ditunjukkan pada heatmap, dimana pada case ini yang dipilih adalah kategori 1 dan 3, sementara sisanya akan dihapus"
   ]
  },
  {
   "cell_type": "code",
   "execution_count": 38,
   "metadata": {},
   "outputs": [],
   "source": [
    "X_train_sel = X_train.drop(['age', 'campaign', 'cons.price.idx', 'cons.conf.idx'], axis = 1)\n",
    "X_test_sel = X_test.drop(['age', 'campaign', 'cons.price.idx', 'cons.conf.idx'], axis = 1)"
   ]
  },
  {
   "cell_type": "markdown",
   "metadata": {},
   "source": [
    "- `Categorical feature selection`"
   ]
  },
  {
   "cell_type": "markdown",
   "metadata": {},
   "source": [
    "sama seperti numerical, pada categorical feature selection juga akan dipilih berdasarkan korelasi antara label dan fitur, dimana pada kasus ini menggunakan chi square untuk mengetahui korelasi diantara label dan fitur."
   ]
  },
  {
   "cell_type": "code",
   "execution_count": 39,
   "metadata": {},
   "outputs": [],
   "source": [
    "kolom = df[kategorik].drop('y', axis=1).columns"
   ]
  },
  {
   "cell_type": "code",
   "execution_count": 40,
   "metadata": {},
   "outputs": [],
   "source": [
    "# def cek_chi_square(col):\n",
    "#     cek = pd.crosstab(df[kategorik][col],df[kategorik]['y'])\n",
    "#     stat, p, dof, expected = stats.chi2_contingency(cek)\n",
    "#     print('p = %.4f' % (p))\n",
    "#     if p <= 0.05:\n",
    "#         print('fitur',col,'kemungkinan dependen dengan label')\n",
    "#         print('')\n",
    "#     else:\n",
    "#         print('fitur',col,'Probably independen dengan label')\n",
    "#         print('')\n",
    "\n",
    "\n",
    "def cek_chi2(col):\n",
    "    cek = pd.crosstab(df[kategorik][col],df[kategorik]['y'])\n",
    "    stat, p, dof, expected = stats.chi2_contingency(cek)\n",
    "    \n",
    "    return p"
   ]
  },
  {
   "cell_type": "code",
   "execution_count": 41,
   "metadata": {},
   "outputs": [
    {
     "name": "stdout",
     "output_type": "stream",
     "text": [
      "fitur housing independen ( 0.0583 )\n",
      "fitur loan independen ( 0.5787 )\n"
     ]
    }
   ],
   "source": [
    "for i in kolom:\n",
    "    if cek_chi2(i) > 0.05:\n",
    "        print('fitur',i,'independen (',round(cek_chi2(i),4),')')"
   ]
  },
  {
   "cell_type": "markdown",
   "metadata": {},
   "source": [
    "`berdasarkan hasil chi square, diketahui bahwa fitur housing dan fitur loan bersifat independen yang artinya kemungkinan tidak memiliki hubungan dengan label y`"
   ]
  },
  {
   "cell_type": "markdown",
   "metadata": {},
   "source": [
    "### <i>Feature encoding</i>"
   ]
  },
  {
   "cell_type": "markdown",
   "metadata": {},
   "source": [
    "- encoding fitur kategorik"
   ]
  },
  {
   "cell_type": "code",
   "execution_count": 42,
   "metadata": {},
   "outputs": [],
   "source": [
    "def hot(col):\n",
    "    hot = OneHotEncoder(sparse=False)\n",
    "    \n",
    "    train  =  hot.fit_transform(X_train[[col]])\n",
    "    test   =  hot.fit_transform(X_test[[col]])\n",
    "    \n",
    "    train_df = pd.DataFrame(train)\n",
    "    test_df = pd.DataFrame(test)\n",
    "    \n",
    "    header_train = X_train[col].sort_values().unique()\n",
    "    header_test = X_test[col].sort_values().unique()\n",
    "    \n",
    "    train_df.columns = col+'_'+header_train\n",
    "    test_df.columns  = col+'_'+header_test\n",
    "    \n",
    "    \n",
    "    return train_df, test_df"
   ]
  },
  {
   "cell_type": "code",
   "execution_count": 43,
   "metadata": {},
   "outputs": [],
   "source": [
    "train_job,          test_job         = hot('job')\n",
    "train_marital,      test_marital     = hot('marital')\n",
    "train_education,    test_education   = hot('education')\n",
    "train_default,      test_default     = hot('default')\n",
    "train_contact,      test_contact     = hot('contact')\n",
    "train_month,        test_month       = hot('month')\n",
    "train_day_of_week,  test_day_of_week = hot('day_of_week')\n",
    "train_poutcome,     test_poutcome    = hot('poutcome')"
   ]
  },
  {
   "cell_type": "markdown",
   "metadata": {},
   "source": [
    "`setelah di encoding, terdapat 1 fitur yang hasilya berbeda pada x_train dan y_train nya yaitu fitur default`"
   ]
  },
  {
   "cell_type": "markdown",
   "metadata": {},
   "source": [
    "- cek ulang hasil encoing"
   ]
  },
  {
   "cell_type": "code",
   "execution_count": 44,
   "metadata": {},
   "outputs": [],
   "source": [
    "cek_enc = {\n",
    "    'job'           : [train_job.shape[1]         , test_job.shape[1]],\n",
    "    'marital'       : [train_marital.shape[1]     , test_marital.shape[1]],\n",
    "    'education'     : [train_education.shape[1]   , test_education.shape[1]],\n",
    "    'default'       : [train_default.shape[1]     , test_default.shape[1]],\n",
    "    'contact'       : [train_contact.shape[1]     , test_contact.shape[1]],\n",
    "    'month'         : [train_month.shape[1]       , test_month.shape[1]],\n",
    "    'day_of_week'   : [train_day_of_week.shape[1] , test_day_of_week.shape[1]],\n",
    "    'poutcome'      : [train_poutcome.shape[1]    , test_poutcome.shape[1]]   \n",
    "}"
   ]
  },
  {
   "cell_type": "code",
   "execution_count": 45,
   "metadata": {},
   "outputs": [
    {
     "data": {
      "text/html": [
       "<div>\n",
       "<style scoped>\n",
       "    .dataframe tbody tr th:only-of-type {\n",
       "        vertical-align: middle;\n",
       "    }\n",
       "\n",
       "    .dataframe tbody tr th {\n",
       "        vertical-align: top;\n",
       "    }\n",
       "\n",
       "    .dataframe thead th {\n",
       "        text-align: right;\n",
       "    }\n",
       "</style>\n",
       "<table border=\"1\" class=\"dataframe\">\n",
       "  <thead>\n",
       "    <tr style=\"text-align: right;\">\n",
       "      <th></th>\n",
       "      <th>job</th>\n",
       "      <th>marital</th>\n",
       "      <th>education</th>\n",
       "      <th>default</th>\n",
       "      <th>contact</th>\n",
       "      <th>month</th>\n",
       "      <th>day_of_week</th>\n",
       "      <th>poutcome</th>\n",
       "    </tr>\n",
       "  </thead>\n",
       "  <tbody>\n",
       "    <tr>\n",
       "      <th>0</th>\n",
       "      <td>12</td>\n",
       "      <td>4</td>\n",
       "      <td>8</td>\n",
       "      <td>3</td>\n",
       "      <td>2</td>\n",
       "      <td>10</td>\n",
       "      <td>5</td>\n",
       "      <td>3</td>\n",
       "    </tr>\n",
       "    <tr>\n",
       "      <th>1</th>\n",
       "      <td>12</td>\n",
       "      <td>4</td>\n",
       "      <td>8</td>\n",
       "      <td>3</td>\n",
       "      <td>2</td>\n",
       "      <td>10</td>\n",
       "      <td>5</td>\n",
       "      <td>3</td>\n",
       "    </tr>\n",
       "  </tbody>\n",
       "</table>\n",
       "</div>"
      ],
      "text/plain": [
       "   job  marital  education  default  contact  month  day_of_week  poutcome\n",
       "0   12        4          8        3        2     10            5         3\n",
       "1   12        4          8        3        2     10            5         3"
      ]
     },
     "execution_count": 45,
     "metadata": {},
     "output_type": "execute_result"
    }
   ],
   "source": [
    "pd.DataFrame(cek_enc)"
   ]
  },
  {
   "cell_type": "markdown",
   "metadata": {},
   "source": [
    "`terlihat bahwa hasil encoding tidak memiliki perbedaan kolom`"
   ]
  },
  {
   "cell_type": "markdown",
   "metadata": {},
   "source": [
    "### Menggabungkan semua fitur"
   ]
  },
  {
   "cell_type": "code",
   "execution_count": 46,
   "metadata": {},
   "outputs": [],
   "source": [
    "X_train_gab = pd.concat([X_train[numerik].reset_index(drop=True), train_job, train_marital, train_education, train_default, train_contact, train_month, train_day_of_week, train_poutcome], axis= 1)\n",
    "\n",
    "X_test_gab = pd.concat([X_test[numerik].reset_index(drop=True), test_job, test_marital, test_education, test_default, test_contact, test_month, test_day_of_week, test_poutcome], axis= 1)"
   ]
  },
  {
   "cell_type": "markdown",
   "metadata": {},
   "source": [
    "### Data Normalization"
   ]
  },
  {
   "cell_type": "code",
   "execution_count": 47,
   "metadata": {},
   "outputs": [],
   "source": [
    "cols = X_train_gab.columns"
   ]
  },
  {
   "cell_type": "code",
   "execution_count": 48,
   "metadata": {},
   "outputs": [],
   "source": [
    "scaler = MinMaxScaler()"
   ]
  },
  {
   "cell_type": "code",
   "execution_count": 49,
   "metadata": {},
   "outputs": [],
   "source": [
    "X_train_new = scaler.fit_transform(X_train_gab)\n",
    "X_test_new = scaler.transform(X_test_gab)"
   ]
  },
  {
   "cell_type": "markdown",
   "metadata": {},
   "source": [
    "<hr>"
   ]
  },
  {
   "cell_type": "markdown",
   "metadata": {},
   "source": [
    "## 5. Modelling"
   ]
  },
  {
   "cell_type": "markdown",
   "metadata": {},
   "source": [
    "<i>`disclaimer`</i>\n",
    "\n",
    "nilai yang keluar pada model bisa jadi berbeda dengan <i>text</i> atau keterangan, karena telah di<i>run</i> beberapa kali sebelum di push "
   ]
  },
  {
   "cell_type": "markdown",
   "metadata": {},
   "source": [
    "        Pada tahap ini akan dilakukan beberapa modeling, diantarnya:\n",
    "                a. Logistic Regression\n",
    "                b. Naive Bayes\n",
    "                c. K-Nearest Neighbors\n",
    "                d. Decision Tree\n",
    "                e. Support Vector Machines\n",
    "                f. Random Forest\n",
    "                g. Perceptron"
   ]
  },
  {
   "cell_type": "code",
   "execution_count": 50,
   "metadata": {},
   "outputs": [],
   "source": [
    "# fungsi untuk fitting model\n",
    "\n",
    "def fitting(model):\n",
    "    \n",
    "    model.fit(X_train_new, y_train)\n",
    "    score_test  = model.score(X_test_new,  y_test)\n",
    "    score_train = model.score(X_train_new, y_train)\n",
    "    return score_train, score_test"
   ]
  },
  {
   "cell_type": "code",
   "execution_count": 51,
   "metadata": {},
   "outputs": [],
   "source": [
    "# fungsi untuk mencari best param\n",
    "\n",
    "def best_param(model):\n",
    "    model_ml = model()\n",
    "    model_random = RandomizedSearchCV(estimator = model_ml, param_distributions = random_grid1, n_iter = 100, cv = 3, verbose=2, random_state=2, n_jobs = -1)\n",
    "    model_random.fit(X_train_new, y_train) \n",
    "    best_param = model_random.best_params_\n",
    "    \n",
    "    return best_param"
   ]
  },
  {
   "cell_type": "code",
   "execution_count": 52,
   "metadata": {},
   "outputs": [],
   "source": [
    "# def cek_over(batas, model):\n",
    "\n",
    "#     values = [i for i in range(1, batas)]\n",
    "#     for i in values:\n",
    "#         model.fit(X_train_new, y_train)\n",
    "        \n",
    "#         y_pred = logreg.predict(X_train_new)\n",
    "        \n",
    "#         train_acc = accuracy_score(y_train, y_pred)\n",
    "#         train_scores.append(train_acc)\n",
    "\n",
    "#         y_pred = model.predict(X_test_new)\n",
    "#         test_acc = accuracy_score(y_test, y_pred)\n",
    "#         test_scores.append(test_acc)\n",
    "\n",
    "#         xtrain.append(train_acc)\n",
    "#         xtest.append(test_acc)\n",
    "#         print('%d, train: %.3f, test: %.3f' % (i, train_acc, test_acc))\n",
    "    \n",
    "#     pyplot.plot(values, train_scores, '-o', label='Train')\n",
    "#     pyplot.plot(values, test_scores, '-o', label='Test')\n",
    "#     pyplot.legend()\n",
    "#     pyplot.show()"
   ]
  },
  {
   "cell_type": "markdown",
   "metadata": {},
   "source": [
    "### `a. logistic regression`"
   ]
  },
  {
   "cell_type": "markdown",
   "metadata": {},
   "source": [
    "#### mencari best hyperparameter"
   ]
  },
  {
   "cell_type": "code",
   "execution_count": 53,
   "metadata": {},
   "outputs": [],
   "source": [
    "# mendefinisikan parameter\n",
    "solver  = ['newton-cg', 'lbfgs', 'liblinear', 'sag', 'saga']\n",
    "max_iter = [int(x) for x in np.linspace(start = 10, stop = 100, num = 10)] \n",
    "\n",
    "random_grid1 = {'solver': solver,\n",
    "                'max_iter': max_iter}"
   ]
  },
  {
   "cell_type": "code",
   "execution_count": 54,
   "metadata": {},
   "outputs": [
    {
     "name": "stdout",
     "output_type": "stream",
     "text": [
      "Fitting 3 folds for each of 50 candidates, totalling 150 fits\n"
     ]
    },
    {
     "data": {
      "text/plain": [
       "{'solver': 'lbfgs', 'max_iter': 30}"
      ]
     },
     "execution_count": 54,
     "metadata": {},
     "output_type": "execute_result"
    }
   ],
   "source": [
    "best_param(LogisticRegression)"
   ]
  },
  {
   "cell_type": "markdown",
   "metadata": {},
   "source": [
    "#### Training model"
   ]
  },
  {
   "cell_type": "code",
   "execution_count": 55,
   "metadata": {},
   "outputs": [
    {
     "data": {
      "text/plain": [
       "LogisticRegression(max_iter=10, random_state=2, solver='sag')"
      ]
     },
     "execution_count": 55,
     "metadata": {},
     "output_type": "execute_result"
    }
   ],
   "source": [
    "logreg = LogisticRegression(solver='sag', max_iter= 10, random_state=2)\n",
    "logreg.fit(X_train_new, y_train)"
   ]
  },
  {
   "cell_type": "markdown",
   "metadata": {},
   "source": [
    "#### Tes model"
   ]
  },
  {
   "cell_type": "code",
   "execution_count": 56,
   "metadata": {},
   "outputs": [],
   "source": [
    "y_pred = logreg.predict(X_test_new)"
   ]
  },
  {
   "cell_type": "markdown",
   "metadata": {},
   "source": [
    "#### Evaluasi model"
   ]
  },
  {
   "cell_type": "markdown",
   "metadata": {},
   "source": [
    "- cek overfitting"
   ]
  },
  {
   "cell_type": "code",
   "execution_count": 57,
   "metadata": {},
   "outputs": [
    {
     "name": "stdout",
     "output_type": "stream",
     "text": [
      "Train set Accuracy: 0.8469\n",
      "Test set Accuracy: 0.8764\n"
     ]
    }
   ],
   "source": [
    "print('Train set Accuracy: %.4f' % accuracy_score(y_train, logreg.predict(X_train_new)))\n",
    "print('Test set Accuracy: %.4f' % accuracy_score(y_test, y_pred))"
   ]
  },
  {
   "cell_type": "markdown",
   "metadata": {},
   "source": [
    "    berdasarkan dari score data train dan test, terlihat bahwa model tidak mengalami overfitting dimana hasil skor score Data Train (0.8469) < score Data Test (0.8764)"
   ]
  },
  {
   "cell_type": "markdown",
   "metadata": {},
   "source": [
    "- Kita juga dapat menampilkan <i>classification_report<i>-nya."
   ]
  },
  {
   "cell_type": "code",
   "execution_count": 58,
   "metadata": {},
   "outputs": [
    {
     "name": "stdout",
     "output_type": "stream",
     "text": [
      "Classification report : \n",
      "              precision    recall  f1-score   support\n",
      "\n",
      "          no       0.91      0.83      0.87      7326\n",
      "         yes       0.85      0.92      0.88      7294\n",
      "\n",
      "    accuracy                           0.88     14620\n",
      "   macro avg       0.88      0.88      0.88     14620\n",
      "weighted avg       0.88      0.88      0.88     14620\n",
      "\n"
     ]
    }
   ],
   "source": [
    "# confusion matrix\n",
    "cm_logreg = confusion_matrix(y_test, y_pred)\n",
    "\n",
    "# classification report\n",
    "print('Classification report : ')\n",
    "print(classification_report(y_test, y_pred, zero_division=1))"
   ]
  },
  {
   "cell_type": "markdown",
   "metadata": {},
   "source": [
    "    berdasarkan classification report, dapat ditarik kesimpulan:\n",
    "\n",
    "    - bahwa model memiliki accuracy 0.88\n",
    "    - dari f1 score terlihat model cukup baik sehingga kemungkinan untuk prediksi akan akurat"
   ]
  },
  {
   "cell_type": "markdown",
   "metadata": {},
   "source": [
    "### `b. Naive Bayes`"
   ]
  },
  {
   "cell_type": "markdown",
   "metadata": {},
   "source": [
    "#### Training model"
   ]
  },
  {
   "cell_type": "code",
   "execution_count": 59,
   "metadata": {},
   "outputs": [
    {
     "data": {
      "text/plain": [
       "GaussianNB()"
      ]
     },
     "execution_count": 59,
     "metadata": {},
     "output_type": "execute_result"
    }
   ],
   "source": [
    "nbgas = GaussianNB()\n",
    "nbgas.fit(X_train_new, y_train)"
   ]
  },
  {
   "cell_type": "markdown",
   "metadata": {},
   "source": [
    "#### Tes model"
   ]
  },
  {
   "cell_type": "code",
   "execution_count": 60,
   "metadata": {},
   "outputs": [],
   "source": [
    "y_pred_nbgas = nbgas.predict(X_test_new)"
   ]
  },
  {
   "cell_type": "markdown",
   "metadata": {},
   "source": [
    "#### Evaluasi model"
   ]
  },
  {
   "cell_type": "markdown",
   "metadata": {},
   "source": [
    "- cek overfitting"
   ]
  },
  {
   "cell_type": "code",
   "execution_count": 61,
   "metadata": {},
   "outputs": [
    {
     "name": "stdout",
     "output_type": "stream",
     "text": [
      "Train set Accuracy: 0.7604\n",
      "Test set Accuracy: 0.7818\n"
     ]
    }
   ],
   "source": [
    "print('Train set Accuracy: %.4f' % accuracy_score(y_train, nbgas.predict(X_train_new)))\n",
    "print('Test set Accuracy: %.4f' % accuracy_score(y_test, y_pred_nbgas))"
   ]
  },
  {
   "cell_type": "markdown",
   "metadata": {},
   "source": [
    "    berdasarkan dari score data train dan test, terlihat bahwa model tidak mengalami overfitting dimana hasil skor score Data Train (0.7604) < score Data Test (0.7818)"
   ]
  },
  {
   "cell_type": "markdown",
   "metadata": {},
   "source": [
    "- Kita juga dapat menampilkan <i>classification_report<i>-nya."
   ]
  },
  {
   "cell_type": "code",
   "execution_count": 62,
   "metadata": {},
   "outputs": [
    {
     "name": "stdout",
     "output_type": "stream",
     "text": [
      "Classification report : \n",
      "              precision    recall  f1-score   support\n",
      "\n",
      "          no       0.82      0.73      0.77      7326\n",
      "         yes       0.75      0.84      0.79      7294\n",
      "\n",
      "    accuracy                           0.78     14620\n",
      "   macro avg       0.79      0.78      0.78     14620\n",
      "weighted avg       0.79      0.78      0.78     14620\n",
      "\n"
     ]
    }
   ],
   "source": [
    "# confusion matrix\n",
    "cm_nbgas = confusion_matrix(y_test, y_pred_nbgas)\n",
    "\n",
    "#classification report\n",
    "print('Classification report : ')\n",
    "print(classification_report(y_test, y_pred_nbgas, zero_division=1))"
   ]
  },
  {
   "cell_type": "markdown",
   "metadata": {},
   "source": [
    "    berdasarkan classification report, dapat ditarik kesimpulan:\n",
    "\n",
    "    - bahwa model memiliki accuracy 0.78\n",
    "    - dari f1 score terlihat bahwa model cukup baik namun lebih baik ditingkatkan lagi untuk lebih akurat pada saat memprediksi"
   ]
  },
  {
   "cell_type": "markdown",
   "metadata": {},
   "source": [
    "### `c. K-Nearest Neighbor`"
   ]
  },
  {
   "cell_type": "markdown",
   "metadata": {},
   "source": [
    "#### mencari best hyperparameter"
   ]
  },
  {
   "cell_type": "markdown",
   "metadata": {},
   "source": [
    "`tidak dilakukan grid search karena sumber daya (laptop) tidak sanggup memproses lebih lanjut`"
   ]
  },
  {
   "cell_type": "code",
   "execution_count": 63,
   "metadata": {},
   "outputs": [],
   "source": [
    "# # mendefinisikan parameter\n",
    "# weights = ['uniform', 'distance']\n",
    "# n_neighbors = [int(x) for x in np.linspace(3, 10, num = 8)]\n",
    "# leaf_size = [int(x) for x in np.linspace(10, 50, num = 5)]\n",
    "\n",
    "# random_grid1 = {'n_neighbors': n_neighbors,\n",
    "#                 'weights': weights,\n",
    "#                 'leaf_size': leaf_size}"
   ]
  },
  {
   "cell_type": "code",
   "execution_count": 64,
   "metadata": {},
   "outputs": [],
   "source": [
    "# best_param(DecisionTreeClassifier)"
   ]
  },
  {
   "cell_type": "markdown",
   "metadata": {},
   "source": [
    "#### Training model"
   ]
  },
  {
   "cell_type": "code",
   "execution_count": 65,
   "metadata": {},
   "outputs": [
    {
     "data": {
      "text/plain": [
       "KNeighborsClassifier()"
      ]
     },
     "execution_count": 65,
     "metadata": {},
     "output_type": "execute_result"
    }
   ],
   "source": [
    "model_knn = KNeighborsClassifier(n_neighbors = 5)\n",
    "model_knn.fit(X_train_new, y_train)"
   ]
  },
  {
   "cell_type": "markdown",
   "metadata": {},
   "source": [
    "#### Tes model"
   ]
  },
  {
   "cell_type": "code",
   "execution_count": 66,
   "metadata": {},
   "outputs": [],
   "source": [
    "y_pred_knn = model_knn.predict(X_test_new)"
   ]
  },
  {
   "cell_type": "markdown",
   "metadata": {},
   "source": [
    "#### Evaluasi model"
   ]
  },
  {
   "cell_type": "markdown",
   "metadata": {},
   "source": [
    "- cek overfitting"
   ]
  },
  {
   "cell_type": "code",
   "execution_count": 67,
   "metadata": {},
   "outputs": [
    {
     "name": "stdout",
     "output_type": "stream",
     "text": [
      "Train set Accuracy: 0.9352\n",
      "Test set Accuracy: 0.9016\n"
     ]
    }
   ],
   "source": [
    "print('Train set Accuracy: %.4f' % accuracy_score(y_train, model_knn.predict(X_train_new)))\n",
    "print('Test set Accuracy: %.4f' % accuracy_score(y_test, y_pred_knn))"
   ]
  },
  {
   "cell_type": "markdown",
   "metadata": {},
   "source": [
    "    berdasarkan dari score data train dan test, terlihat bahwa model mengalami overfitting dimana hasil skor score Data Train (0.9352) > score Data Test (0.9016)"
   ]
  },
  {
   "cell_type": "markdown",
   "metadata": {},
   "source": [
    "- Kita juga dapat menampilkan <i>classification_report<i>-nya."
   ]
  },
  {
   "cell_type": "code",
   "execution_count": 68,
   "metadata": {},
   "outputs": [
    {
     "name": "stdout",
     "output_type": "stream",
     "text": [
      "Classification report : \n",
      "              precision    recall  f1-score   support\n",
      "\n",
      "          no       0.97      0.83      0.89      7326\n",
      "         yes       0.85      0.98      0.91      7294\n",
      "\n",
      "    accuracy                           0.90     14620\n",
      "   macro avg       0.91      0.90      0.90     14620\n",
      "weighted avg       0.91      0.90      0.90     14620\n",
      "\n"
     ]
    }
   ],
   "source": [
    "# confusion matrix\n",
    "cm_knn = confusion_matrix(y_test, y_pred_knn)\n",
    "\n",
    "#classification report\n",
    "print('Classification report : ')\n",
    "print(classification_report(y_test, y_pred_knn, zero_division=1))"
   ]
  },
  {
   "cell_type": "markdown",
   "metadata": {},
   "source": [
    "    berdasarkan classification report, dapat ditarik kesimpulan:\n",
    "\n",
    "    - bahwa model memiliki accuracy 0.90\n",
    "    - dari f1 score terlihat model sangat baik sehingga kemungkinan untuk prediksi akan sangat akurat"
   ]
  },
  {
   "cell_type": "markdown",
   "metadata": {},
   "source": [
    "### `d. Decision Tree`"
   ]
  },
  {
   "cell_type": "markdown",
   "metadata": {},
   "source": [
    "#### mencari best hyperparameter"
   ]
  },
  {
   "cell_type": "code",
   "execution_count": 69,
   "metadata": {},
   "outputs": [],
   "source": [
    "# mendefinisikan parameter\n",
    "criterion = ['gini', 'entropy']\n",
    "max_depth = [int(x) for x in np.linspace(10, 110, num = 11)]\n",
    "min_samples_split = [0, 2, 4]\n",
    "\n",
    "random_grid1 = {'criterion': criterion,\n",
    "                'max_depth': max_depth,\n",
    "                'min_samples_split': min_samples_split}"
   ]
  },
  {
   "cell_type": "code",
   "execution_count": 70,
   "metadata": {},
   "outputs": [
    {
     "name": "stdout",
     "output_type": "stream",
     "text": [
      "Fitting 3 folds for each of 66 candidates, totalling 198 fits\n"
     ]
    },
    {
     "data": {
      "text/plain": [
       "{'min_samples_split': 2, 'max_depth': 80, 'criterion': 'entropy'}"
      ]
     },
     "execution_count": 70,
     "metadata": {},
     "output_type": "execute_result"
    }
   ],
   "source": [
    "best_param(DecisionTreeClassifier)"
   ]
  },
  {
   "cell_type": "markdown",
   "metadata": {},
   "source": [
    "#### Training model"
   ]
  },
  {
   "cell_type": "code",
   "execution_count": 71,
   "metadata": {},
   "outputs": [
    {
     "data": {
      "text/plain": [
       "DecisionTreeClassifier(max_depth=60)"
      ]
     },
     "execution_count": 71,
     "metadata": {},
     "output_type": "execute_result"
    }
   ],
   "source": [
    "model_dtree = DecisionTreeClassifier(min_samples_split = 2, max_depth = 60, criterion='gini')\n",
    "model_dtree.fit(X_train_new, y_train)"
   ]
  },
  {
   "cell_type": "markdown",
   "metadata": {},
   "source": [
    "#### Tes model"
   ]
  },
  {
   "cell_type": "code",
   "execution_count": 72,
   "metadata": {},
   "outputs": [],
   "source": [
    "y_pred_dtree = model_dtree.predict(X_test_new)"
   ]
  },
  {
   "cell_type": "markdown",
   "metadata": {},
   "source": [
    "#### Evaluasi model"
   ]
  },
  {
   "cell_type": "markdown",
   "metadata": {},
   "source": [
    "- cek overfitting"
   ]
  },
  {
   "cell_type": "code",
   "execution_count": 73,
   "metadata": {},
   "outputs": [
    {
     "name": "stdout",
     "output_type": "stream",
     "text": [
      "Train set Accuracy: 0.9999\n",
      "Test set Accuracy: 0.9394\n"
     ]
    }
   ],
   "source": [
    "print('Train set Accuracy: %.4f' % accuracy_score(y_train, model_dtree.predict(X_train_new)))\n",
    "print('Test set Accuracy: %.4f' % accuracy_score(y_test, y_pred_dtree))"
   ]
  },
  {
   "cell_type": "markdown",
   "metadata": {},
   "source": [
    "    berdasarkan dari score data train dan test, terlihat bahwa model mengalami overfitting dimana hasil skor score Data Train (0.9999) > score Data Test (0.9394)"
   ]
  },
  {
   "cell_type": "markdown",
   "metadata": {},
   "source": [
    "- Kita juga dapat menampilkan <i>classification_report<i>-nya."
   ]
  },
  {
   "cell_type": "code",
   "execution_count": 74,
   "metadata": {},
   "outputs": [
    {
     "name": "stdout",
     "output_type": "stream",
     "text": [
      "Classification report : \n",
      "              precision    recall  f1-score   support\n",
      "\n",
      "          no       0.95      0.93      0.94      7326\n",
      "         yes       0.93      0.95      0.94      7294\n",
      "\n",
      "    accuracy                           0.94     14620\n",
      "   macro avg       0.94      0.94      0.94     14620\n",
      "weighted avg       0.94      0.94      0.94     14620\n",
      "\n"
     ]
    }
   ],
   "source": [
    "# confusion matrix\n",
    "cm_dtree = confusion_matrix(y_test, y_pred_dtree)\n",
    "\n",
    "#classification report\n",
    "print('Classification report : ')\n",
    "print(classification_report(y_test, y_pred_dtree, zero_division=1))"
   ]
  },
  {
   "cell_type": "markdown",
   "metadata": {},
   "source": [
    "    berdasarkan classification report, dapat ditarik kesimpulan:\n",
    "\n",
    "    - bahwa model memiliki accuracy 0.94\n",
    "    - f1 score sangat baik dan kemungkinan model untuk memprediksi akan sangat akurat"
   ]
  },
  {
   "cell_type": "markdown",
   "metadata": {},
   "source": [
    "### `e. Random Forest`"
   ]
  },
  {
   "cell_type": "markdown",
   "metadata": {},
   "source": [
    "#### mencari best hyperparameter"
   ]
  },
  {
   "cell_type": "markdown",
   "metadata": {},
   "source": [
    "`tidak dilakukan grid search karena sumber daya (laptop) tidak sanggup memproses lebih lanjut`"
   ]
  },
  {
   "cell_type": "code",
   "execution_count": 75,
   "metadata": {},
   "outputs": [],
   "source": [
    "# # mendefinisikan parameter\n",
    "# n_estimators = [int(x) for x in np.linspace(start = 100, stop = 500, num = 10)]\n",
    "# min_samples_split = [2, 5, 10]\n",
    "# min_samples_leaf = [1, 2, 4]\n",
    "\n",
    "# random_grid1 = {'n_estimators': n_estimators,\n",
    "#                 'min_samples_split': min_samples_split,\n",
    "#                 'min_samples_leaf': min_samples_leaf}"
   ]
  },
  {
   "cell_type": "code",
   "execution_count": 76,
   "metadata": {},
   "outputs": [],
   "source": [
    "# best_param(RandomForestClassifier)"
   ]
  },
  {
   "cell_type": "markdown",
   "metadata": {},
   "source": [
    "#### Training model"
   ]
  },
  {
   "cell_type": "code",
   "execution_count": 77,
   "metadata": {},
   "outputs": [
    {
     "data": {
      "text/plain": [
       "RandomForestClassifier(min_samples_leaf=4)"
      ]
     },
     "execution_count": 77,
     "metadata": {},
     "output_type": "execute_result"
    }
   ],
   "source": [
    "model_rf = RandomForestClassifier(n_estimators=100, min_samples_split= 2, min_samples_leaf= 4, bootstrap= True)\n",
    "model_rf.fit(X_train_new, y_train)"
   ]
  },
  {
   "cell_type": "markdown",
   "metadata": {},
   "source": [
    "#### Tes model"
   ]
  },
  {
   "cell_type": "code",
   "execution_count": 78,
   "metadata": {},
   "outputs": [],
   "source": [
    "y_pred_rf = model_rf.predict(X_test_new)"
   ]
  },
  {
   "cell_type": "markdown",
   "metadata": {},
   "source": [
    "#### Evaluasi model"
   ]
  },
  {
   "cell_type": "markdown",
   "metadata": {},
   "source": [
    "- cek overfitting"
   ]
  },
  {
   "cell_type": "code",
   "execution_count": 79,
   "metadata": {},
   "outputs": [
    {
     "name": "stdout",
     "output_type": "stream",
     "text": [
      "Train set Accuracy: 0.9608\n",
      "Test set Accuracy: 0.9397\n"
     ]
    }
   ],
   "source": [
    "print('Train set Accuracy: %.4f' % accuracy_score(y_train, model_rf.predict(X_train_new)))\n",
    "print('Test set Accuracy: %.4f' % accuracy_score(y_test, y_pred_rf))"
   ]
  },
  {
   "cell_type": "markdown",
   "metadata": {},
   "source": [
    "    berdasarkan dari score data train dan test, terlihat bahwa model mengalami overfitting dimana hasil skor score Data Train (0.9608) > score Data Test (0.9397)"
   ]
  },
  {
   "cell_type": "markdown",
   "metadata": {},
   "source": [
    "- Kita juga dapat menampilkan <i>classification_report<i>-nya."
   ]
  },
  {
   "cell_type": "code",
   "execution_count": 80,
   "metadata": {},
   "outputs": [
    {
     "name": "stdout",
     "output_type": "stream",
     "text": [
      "Classification report : \n",
      "              precision    recall  f1-score   support\n",
      "\n",
      "          no       0.99      0.89      0.94      7326\n",
      "         yes       0.90      0.99      0.94      7294\n",
      "\n",
      "    accuracy                           0.94     14620\n",
      "   macro avg       0.94      0.94      0.94     14620\n",
      "weighted avg       0.94      0.94      0.94     14620\n",
      "\n"
     ]
    }
   ],
   "source": [
    "# confusion matrix\n",
    "cm_rf = confusion_matrix(y_test, y_pred_rf)\n",
    "\n",
    "#classification report\n",
    "print('Classification report : ')\n",
    "print(classification_report(y_test, y_pred_rf, zero_division=1))"
   ]
  },
  {
   "cell_type": "markdown",
   "metadata": {},
   "source": [
    "    berdasarkan classification report, dapat ditarik kesimpulan:\n",
    "\n",
    "    - bahwa model memiliki accuracy 0.94\n",
    "    - f1 score terlihat mempunyai skor yang tinggi dan cukup seimbang sehingga kemungkinan besar model dapat memprediksi dengan tepat"
   ]
  },
  {
   "cell_type": "markdown",
   "metadata": {},
   "source": [
    "### `f. Support Vector Machine`"
   ]
  },
  {
   "cell_type": "markdown",
   "metadata": {},
   "source": [
    "#### mencari best hyperparameter"
   ]
  },
  {
   "cell_type": "markdown",
   "metadata": {},
   "source": [
    "`tidak dilakukan grid search karena sumber daya (laptop) tidak sanggup memproses lebih lanjut`"
   ]
  },
  {
   "cell_type": "code",
   "execution_count": 81,
   "metadata": {},
   "outputs": [],
   "source": [
    "# # mendefinisikan parameter\n",
    "# kernel = ['linear', 'poly', 'rbf', 'sigmoid', 'precomputed']\n",
    "# C = [1, 2, 3]\n",
    "\n",
    "# random_grid1 = {'kernel': kernel,\n",
    "#                 'C': C}"
   ]
  },
  {
   "cell_type": "code",
   "execution_count": 82,
   "metadata": {},
   "outputs": [],
   "source": [
    "# best_param(SVC)"
   ]
  },
  {
   "cell_type": "markdown",
   "metadata": {},
   "source": [
    "#### Training model"
   ]
  },
  {
   "cell_type": "code",
   "execution_count": 83,
   "metadata": {},
   "outputs": [
    {
     "data": {
      "text/plain": [
       "SVC(C=1, kernel='poly')"
      ]
     },
     "execution_count": 83,
     "metadata": {},
     "output_type": "execute_result"
    }
   ],
   "source": [
    "model_svc = SVC(kernel='poly', C= 1)\n",
    "model_svc.fit(X_train_new, y_train)"
   ]
  },
  {
   "cell_type": "markdown",
   "metadata": {},
   "source": [
    "#### Tes model"
   ]
  },
  {
   "cell_type": "code",
   "execution_count": 84,
   "metadata": {},
   "outputs": [],
   "source": [
    "y_pred_svc = model_svc.predict(X_test_new)"
   ]
  },
  {
   "cell_type": "markdown",
   "metadata": {},
   "source": [
    "#### Evaluasi model"
   ]
  },
  {
   "cell_type": "markdown",
   "metadata": {},
   "source": [
    "- cek overfitting"
   ]
  },
  {
   "cell_type": "code",
   "execution_count": 85,
   "metadata": {},
   "outputs": [
    {
     "name": "stdout",
     "output_type": "stream",
     "text": [
      "Train set Accuracy: 0.8784\n",
      "Test set Accuracy: 0.8967\n"
     ]
    }
   ],
   "source": [
    "print('Train set Accuracy: %.4f' % accuracy_score(y_train, model_svc.predict(X_train_new)))\n",
    "print('Test set Accuracy: %.4f' % accuracy_score(y_test, y_pred_svc))"
   ]
  },
  {
   "cell_type": "markdown",
   "metadata": {},
   "source": [
    "    berdasarkan dari score data train dan test, terlihat bahwa model mengalami overfitting dimana hasil skor score Data Train (0.8784) < score Data Test (0.8967)"
   ]
  },
  {
   "cell_type": "markdown",
   "metadata": {},
   "source": [
    "- Kita juga dapat menampilkan <i>classification_report<i>-nya."
   ]
  },
  {
   "cell_type": "code",
   "execution_count": 86,
   "metadata": {},
   "outputs": [
    {
     "name": "stdout",
     "output_type": "stream",
     "text": [
      "Classification report : \n",
      "              precision    recall  f1-score   support\n",
      "\n",
      "          no       0.95      0.83      0.89      7326\n",
      "         yes       0.85      0.96      0.90      7294\n",
      "\n",
      "    accuracy                           0.90     14620\n",
      "   macro avg       0.90      0.90      0.90     14620\n",
      "weighted avg       0.90      0.90      0.90     14620\n",
      "\n"
     ]
    }
   ],
   "source": [
    "# confusion matrix\n",
    "cm_svc = confusion_matrix(y_test, y_pred_svc)\n",
    "\n",
    "#classification report\n",
    "print('Classification report : ')\n",
    "print(classification_report(y_test, y_pred_svc, zero_division=1))"
   ]
  },
  {
   "cell_type": "markdown",
   "metadata": {},
   "source": [
    "    berdasarkan classification report, dapat ditarik kesimpulan:\n",
    "\n",
    "    - bahwa model memiliki accuracy 0.90\n",
    "    - f1 score terlihat sangat baik dan jika model digunakan, akan menghasilkan prediksi yang akurat"
   ]
  },
  {
   "cell_type": "markdown",
   "metadata": {},
   "source": [
    "### `g. Perceptron`"
   ]
  },
  {
   "cell_type": "markdown",
   "metadata": {},
   "source": [
    "#### Training model"
   ]
  },
  {
   "cell_type": "code",
   "execution_count": 87,
   "metadata": {},
   "outputs": [
    {
     "data": {
      "text/plain": [
       "Perceptron()"
      ]
     },
     "execution_count": 87,
     "metadata": {},
     "output_type": "execute_result"
    }
   ],
   "source": [
    "model_percpt = Perceptron()\n",
    "model_percpt.fit(X_train_new, y_train)"
   ]
  },
  {
   "cell_type": "markdown",
   "metadata": {},
   "source": [
    "#### Tes model"
   ]
  },
  {
   "cell_type": "code",
   "execution_count": 88,
   "metadata": {},
   "outputs": [],
   "source": [
    "y_pred_per = model_percpt.predict(X_test_new)"
   ]
  },
  {
   "cell_type": "markdown",
   "metadata": {},
   "source": [
    "#### Evaluasi model"
   ]
  },
  {
   "cell_type": "markdown",
   "metadata": {},
   "source": [
    "- cek overfitting"
   ]
  },
  {
   "cell_type": "code",
   "execution_count": 89,
   "metadata": {},
   "outputs": [
    {
     "name": "stdout",
     "output_type": "stream",
     "text": [
      "Train set Accuracy: 0.6754\n",
      "Test set Accuracy: 0.6813\n"
     ]
    }
   ],
   "source": [
    "print('Train set Accuracy: %.4f' % accuracy_score(y_train, model_percpt.predict(X_train_new)))\n",
    "print('Test set Accuracy: %.4f' % accuracy_score(y_test, y_pred_per))"
   ]
  },
  {
   "cell_type": "markdown",
   "metadata": {},
   "source": [
    "    berdasarkan dari score data train dan test, terlihat bahwa model mengalami overfitting dimana hasil skor score Data Train (0.6754) < score Data Test (0.6813)"
   ]
  },
  {
   "cell_type": "markdown",
   "metadata": {},
   "source": [
    "- Kita juga dapat menampilkan <i>classification_report<i>-nya."
   ]
  },
  {
   "cell_type": "code",
   "execution_count": 90,
   "metadata": {},
   "outputs": [
    {
     "name": "stdout",
     "output_type": "stream",
     "text": [
      "Classification report : \n",
      "              precision    recall  f1-score   support\n",
      "\n",
      "          no       0.95      0.38      0.55      7326\n",
      "         yes       0.61      0.98      0.75      7294\n",
      "\n",
      "    accuracy                           0.68     14620\n",
      "   macro avg       0.78      0.68      0.65     14620\n",
      "weighted avg       0.78      0.68      0.65     14620\n",
      "\n"
     ]
    }
   ],
   "source": [
    "# confusion matrix\n",
    "cm_per = confusion_matrix(y_test, y_pred_per)\n",
    "\n",
    "#classification report\n",
    "print('Classification report : ')\n",
    "print(classification_report(y_test, y_pred_per, zero_division=1))"
   ]
  },
  {
   "cell_type": "markdown",
   "metadata": {},
   "source": [
    "    berdasarkan classification report, dapat ditarik kesimpulan:\n",
    "\n",
    "    - bahwa model memiliki accuracy 0.85\n",
    "    - berdasarkan f1 score, tampaknya hasil prediksi akan akurat apalagi didukung dengan seimbangnya nilai f1 score"
   ]
  },
  {
   "cell_type": "markdown",
   "metadata": {},
   "source": [
    "<hr>"
   ]
  },
  {
   "cell_type": "markdown",
   "metadata": {},
   "source": [
    "## 6. Model Inference"
   ]
  },
  {
   "cell_type": "markdown",
   "metadata": {},
   "source": [
    "    Pada tahap ini akan dilakukan uji coba pada beberapa model (model inference) dengan 10 random data dari gabungan X_train dan X_test, diantarnya:\n",
    "        a. Logistic Regression\n",
    "        b. Naive Bayes\n",
    "        c. K-Nearest Neighbors\n",
    "        d. Decision Tree\n",
    "        e. Support Vector Machines\n",
    "        f. Random Forest"
   ]
  },
  {
   "cell_type": "markdown",
   "metadata": {},
   "source": [
    "- Menguji model dengan membuat 10 random data secara acak dari gabungan X_train dan X_test"
   ]
  },
  {
   "cell_type": "code",
   "execution_count": 91,
   "metadata": {},
   "outputs": [],
   "source": [
    "trainx = pd.DataFrame(X_train_new)\n",
    "testx = pd.DataFrame(X_test_new)"
   ]
  },
  {
   "cell_type": "code",
   "execution_count": 92,
   "metadata": {},
   "outputs": [],
   "source": [
    "testing = pd.concat([trainx.sample(10000), testx.sample(10000)], ignore_index = True)"
   ]
  },
  {
   "cell_type": "code",
   "execution_count": 93,
   "metadata": {},
   "outputs": [],
   "source": [
    "dummy = testing.sample(10)"
   ]
  },
  {
   "cell_type": "markdown",
   "metadata": {},
   "source": [
    "### `a. Logistic Regression`"
   ]
  },
  {
   "cell_type": "code",
   "execution_count": 94,
   "metadata": {},
   "outputs": [],
   "source": [
    "dummy_loreg = logreg.predict(dummy)"
   ]
  },
  {
   "cell_type": "markdown",
   "metadata": {},
   "source": [
    "### `b. Naive Bayes`"
   ]
  },
  {
   "cell_type": "code",
   "execution_count": 95,
   "metadata": {},
   "outputs": [],
   "source": [
    "dummy_nbgas = nbgas.predict(dummy)"
   ]
  },
  {
   "cell_type": "markdown",
   "metadata": {},
   "source": [
    "### `c. K-Nearest Neighbors`"
   ]
  },
  {
   "cell_type": "code",
   "execution_count": 96,
   "metadata": {},
   "outputs": [],
   "source": [
    "dummy_knn = model_knn.predict(dummy)"
   ]
  },
  {
   "cell_type": "markdown",
   "metadata": {},
   "source": [
    "### `d. Decision Tree`"
   ]
  },
  {
   "cell_type": "code",
   "execution_count": 97,
   "metadata": {},
   "outputs": [],
   "source": [
    "dummy_dtree = model_dtree.predict(dummy)"
   ]
  },
  {
   "cell_type": "markdown",
   "metadata": {},
   "source": [
    "### `e. Random Forest`"
   ]
  },
  {
   "cell_type": "code",
   "execution_count": 98,
   "metadata": {},
   "outputs": [],
   "source": [
    "dummy_rf = model_rf.predict(dummy)"
   ]
  },
  {
   "cell_type": "markdown",
   "metadata": {},
   "source": [
    "### `f. Support Vector Machines`"
   ]
  },
  {
   "cell_type": "code",
   "execution_count": 99,
   "metadata": {},
   "outputs": [],
   "source": [
    "dummy_svc = model_svc.predict(dummy)"
   ]
  },
  {
   "cell_type": "markdown",
   "metadata": {},
   "source": [
    "### `g. Perceptron`"
   ]
  },
  {
   "cell_type": "code",
   "execution_count": 100,
   "metadata": {},
   "outputs": [],
   "source": [
    "dummy_per = model_percpt.predict(dummy)"
   ]
  },
  {
   "cell_type": "markdown",
   "metadata": {},
   "source": [
    "- hasil prediksi"
   ]
  },
  {
   "cell_type": "code",
   "execution_count": 101,
   "metadata": {},
   "outputs": [
    {
     "data": {
      "text/html": [
       "<div>\n",
       "<style scoped>\n",
       "    .dataframe tbody tr th:only-of-type {\n",
       "        vertical-align: middle;\n",
       "    }\n",
       "\n",
       "    .dataframe tbody tr th {\n",
       "        vertical-align: top;\n",
       "    }\n",
       "\n",
       "    .dataframe thead th {\n",
       "        text-align: right;\n",
       "    }\n",
       "</style>\n",
       "<table border=\"1\" class=\"dataframe\">\n",
       "  <thead>\n",
       "    <tr style=\"text-align: right;\">\n",
       "      <th></th>\n",
       "      <th>logistic regression</th>\n",
       "      <th>naive Bayes</th>\n",
       "      <th>k nearest neighbor</th>\n",
       "      <th>decision tree</th>\n",
       "      <th>random forest</th>\n",
       "      <th>support vector machine</th>\n",
       "      <th>perceptron</th>\n",
       "    </tr>\n",
       "  </thead>\n",
       "  <tbody>\n",
       "    <tr>\n",
       "      <th>0</th>\n",
       "      <td>no</td>\n",
       "      <td>no</td>\n",
       "      <td>no</td>\n",
       "      <td>no</td>\n",
       "      <td>no</td>\n",
       "      <td>no</td>\n",
       "      <td>yes</td>\n",
       "    </tr>\n",
       "    <tr>\n",
       "      <th>1</th>\n",
       "      <td>no</td>\n",
       "      <td>no</td>\n",
       "      <td>no</td>\n",
       "      <td>no</td>\n",
       "      <td>no</td>\n",
       "      <td>no</td>\n",
       "      <td>no</td>\n",
       "    </tr>\n",
       "    <tr>\n",
       "      <th>2</th>\n",
       "      <td>no</td>\n",
       "      <td>no</td>\n",
       "      <td>no</td>\n",
       "      <td>no</td>\n",
       "      <td>no</td>\n",
       "      <td>no</td>\n",
       "      <td>yes</td>\n",
       "    </tr>\n",
       "    <tr>\n",
       "      <th>3</th>\n",
       "      <td>yes</td>\n",
       "      <td>yes</td>\n",
       "      <td>yes</td>\n",
       "      <td>yes</td>\n",
       "      <td>yes</td>\n",
       "      <td>yes</td>\n",
       "      <td>yes</td>\n",
       "    </tr>\n",
       "    <tr>\n",
       "      <th>4</th>\n",
       "      <td>no</td>\n",
       "      <td>no</td>\n",
       "      <td>no</td>\n",
       "      <td>no</td>\n",
       "      <td>no</td>\n",
       "      <td>no</td>\n",
       "      <td>no</td>\n",
       "    </tr>\n",
       "    <tr>\n",
       "      <th>5</th>\n",
       "      <td>no</td>\n",
       "      <td>no</td>\n",
       "      <td>no</td>\n",
       "      <td>no</td>\n",
       "      <td>no</td>\n",
       "      <td>yes</td>\n",
       "      <td>yes</td>\n",
       "    </tr>\n",
       "    <tr>\n",
       "      <th>6</th>\n",
       "      <td>yes</td>\n",
       "      <td>yes</td>\n",
       "      <td>yes</td>\n",
       "      <td>yes</td>\n",
       "      <td>yes</td>\n",
       "      <td>yes</td>\n",
       "      <td>yes</td>\n",
       "    </tr>\n",
       "    <tr>\n",
       "      <th>7</th>\n",
       "      <td>yes</td>\n",
       "      <td>yes</td>\n",
       "      <td>yes</td>\n",
       "      <td>yes</td>\n",
       "      <td>yes</td>\n",
       "      <td>yes</td>\n",
       "      <td>yes</td>\n",
       "    </tr>\n",
       "    <tr>\n",
       "      <th>8</th>\n",
       "      <td>no</td>\n",
       "      <td>no</td>\n",
       "      <td>yes</td>\n",
       "      <td>yes</td>\n",
       "      <td>yes</td>\n",
       "      <td>yes</td>\n",
       "      <td>yes</td>\n",
       "    </tr>\n",
       "    <tr>\n",
       "      <th>9</th>\n",
       "      <td>yes</td>\n",
       "      <td>yes</td>\n",
       "      <td>yes</td>\n",
       "      <td>yes</td>\n",
       "      <td>yes</td>\n",
       "      <td>yes</td>\n",
       "      <td>yes</td>\n",
       "    </tr>\n",
       "  </tbody>\n",
       "</table>\n",
       "</div>"
      ],
      "text/plain": [
       "  logistic regression naive Bayes k nearest neighbor  decision tree  \\\n",
       "0                  no          no                  no            no   \n",
       "1                  no          no                  no            no   \n",
       "2                  no          no                  no            no   \n",
       "3                 yes         yes                 yes           yes   \n",
       "4                  no          no                  no            no   \n",
       "5                  no          no                  no            no   \n",
       "6                 yes         yes                 yes           yes   \n",
       "7                 yes         yes                 yes           yes   \n",
       "8                  no          no                 yes           yes   \n",
       "9                 yes         yes                 yes           yes   \n",
       "\n",
       "  random forest support vector machine perceptron  \n",
       "0            no                     no        yes  \n",
       "1            no                     no         no  \n",
       "2            no                     no        yes  \n",
       "3           yes                    yes        yes  \n",
       "4            no                     no         no  \n",
       "5            no                    yes        yes  \n",
       "6           yes                    yes        yes  \n",
       "7           yes                    yes        yes  \n",
       "8           yes                    yes        yes  \n",
       "9           yes                    yes        yes  "
      ]
     },
     "execution_count": 101,
     "metadata": {},
     "output_type": "execute_result"
    }
   ],
   "source": [
    "hasilpred = {\n",
    "    'logistic regression' : dummy_loreg,\n",
    "    'naive Bayes' : dummy_nbgas,\n",
    "    'k nearest neighbor ' : dummy_knn,\n",
    "    'decision tree' : dummy_dtree,\n",
    "    'random forest' : dummy_rf,\n",
    "    'support vector machine' : dummy_svc,\n",
    "    'perceptron' : dummy_per\n",
    "}\n",
    "\n",
    "hasil_pred = pd.DataFrame(hasilpred)\n",
    "hasil_pred"
   ]
  },
  {
   "cell_type": "markdown",
   "metadata": {},
   "source": [
    "<hr>"
   ]
  },
  {
   "cell_type": "markdown",
   "metadata": {},
   "source": [
    "## 7. Keimpulan"
   ]
  },
  {
   "cell_type": "code",
   "execution_count": 102,
   "metadata": {},
   "outputs": [],
   "source": [
    "# fungsi untuk mengecek confussion matrix\n",
    "\n",
    "def CM(CM, con1, con2):\n",
    "    rec_no   = round(CM[0][0]/(CM[0][0]+CM[0][1]),2)\n",
    "    rec_yes  = round(CM[1][1]/(CM[1][1]+CM[1][0]),2)\n",
    "    prec_no  = round(CM[0][0]/(CM[0][0]+CM[1][0]),2)\n",
    "    prec_yes = round(CM[1][1]/(CM[1][1]+CM[0][1]),2)\n",
    "    \n",
    "    if con1 == 'recall':\n",
    "        if con2 == 'no':\n",
    "            return rec_no\n",
    "        \n",
    "        if con2 == 'yes':\n",
    "            return rec_yes\n",
    "            \n",
    "    if con1 == 'precision':\n",
    "        if con2 == 'no':\n",
    "            return prec_no\n",
    "        \n",
    "        if con2 == 'yes':\n",
    "            return prec_yes\n",
    "        \n",
    "    if con1 == 'f1':\n",
    "        if con2 == 'no':\n",
    "            return round(2*(rec_no*prec_no)/(rec_no+prec_no),2)\n",
    "        \n",
    "        if con2 == 'yes':\n",
    "            return round(2*(rec_yes*prec_yes)/(rec_yes+prec_yes),2)\n",
    "        \n",
    "    if con1 == 'accuracy':\n",
    "        return round((CM[0][0]+CM[1][1])/(CM[0][0]+CM[0][1]+CM[1][0]+CM[1][1]),2)"
   ]
  },
  {
   "cell_type": "markdown",
   "metadata": {},
   "source": [
    "### EDA Analysis"
   ]
  },
  {
   "cell_type": "markdown",
   "metadata": {},
   "source": [
    "berdasarkan EDA, data numerik kebanyakan tidak berdistribusi normal karena data tidak merata dan lebih banyak pada satu value, begitu pula dengan data kategorik dimana data tidak balance dan kebanyakan data lebih banyak pada satu value."
   ]
  },
  {
   "cell_type": "markdown",
   "metadata": {},
   "source": [
    "### Mode Analysis"
   ]
  },
  {
   "cell_type": "markdown",
   "metadata": {},
   "source": [
    "Dari beberapa model yang telah dibuat, berikut adalah rangkuman dari nilai f1-score dan accuracy-nya:"
   ]
  },
  {
   "cell_type": "code",
   "execution_count": 103,
   "metadata": {},
   "outputs": [],
   "source": [
    "data_class= {'logistric regression' : [CM(cm_logreg, 'precision','no'), CM(cm_logreg, 'precision','yes'), CM(cm_logreg, 'recall','no'), CM(cm_logreg, 'recall','yes'), CM(cm_logreg, 'f1','no'), CM(cm_logreg, 'f1','yes'), CM(cm_logreg, 'accuracy',_)],\n",
    "             'naive bayes' : [CM(cm_nbgas, 'precision','no'), CM(cm_nbgas, 'precision','yes'), CM(cm_nbgas, 'recall','no'), CM(cm_nbgas, 'recall','yes'), CM(cm_nbgas, 'f1','no'), CM(cm_nbgas, 'f1','yes'), CM(cm_nbgas, 'accuracy',_)],\n",
    "             'knn' : [CM(cm_knn, 'precision','no'), CM(cm_knn, 'precision','yes'), CM(cm_knn, 'recall','no'), CM(cm_knn, 'recall','yes'), CM(cm_knn, 'f1','no'), CM(cm_knn, 'f1','yes'), CM(cm_knn, 'accuracy',_)],\n",
    "             'decision tree' : [CM(cm_dtree, 'precision','no'), CM(cm_dtree, 'precision','yes'), CM(cm_dtree, 'recall','no'), CM(cm_dtree, 'recall','yes'), CM(cm_dtree, 'f1','no'), CM(cm_dtree, 'f1','yes'), CM(cm_dtree, 'accuracy',_)],\n",
    "             'random forest' : [CM(cm_rf, 'precision','no'), CM(cm_rf, 'precision','yes'), CM(cm_rf, 'recall','no'), CM(cm_rf, 'recall','yes'), CM(cm_rf, 'f1','no'), CM(cm_rf, 'f1','yes'), CM(cm_rf, 'accuracy',_)],\n",
    "             'svr' : [CM(cm_svc, 'precision','no'), CM(cm_svc, 'precision','yes'), CM(cm_svc, 'recall','no'), CM(cm_svc, 'recall','yes'), CM(cm_svc, 'f1','no'), CM(cm_svc, 'f1','yes'), CM(cm_svc, 'accuracy',_)],\n",
    "             'perceptron' : [CM(cm_per, 'precision','no'), CM(cm_per, 'precision','yes'), CM(cm_per, 'recall','no'), CM(cm_per, 'recall','yes'), CM(cm_per, 'f1','no'), CM(cm_per, 'f1','yes'), CM(cm_per, 'accuracy',_)]\n",
    "    }\n",
    "\n",
    "data_model = pd.DataFrame(data_class).transpose()\n",
    "data_model.rename(columns={0: 'precision no', 1: 'precision yes', 2: 'recall no', 3: 'recall yes', 4: 'f1 score no', 5: 'f1 score no', 6:'accuracy'}, inplace=True)"
   ]
  },
  {
   "cell_type": "code",
   "execution_count": 104,
   "metadata": {},
   "outputs": [
    {
     "data": {
      "text/html": [
       "<div>\n",
       "<style scoped>\n",
       "    .dataframe tbody tr th:only-of-type {\n",
       "        vertical-align: middle;\n",
       "    }\n",
       "\n",
       "    .dataframe tbody tr th {\n",
       "        vertical-align: top;\n",
       "    }\n",
       "\n",
       "    .dataframe thead th {\n",
       "        text-align: right;\n",
       "    }\n",
       "</style>\n",
       "<table border=\"1\" class=\"dataframe\">\n",
       "  <thead>\n",
       "    <tr style=\"text-align: right;\">\n",
       "      <th></th>\n",
       "      <th>precision no</th>\n",
       "      <th>precision yes</th>\n",
       "      <th>recall no</th>\n",
       "      <th>recall yes</th>\n",
       "      <th>f1 score no</th>\n",
       "      <th>f1 score no</th>\n",
       "      <th>accuracy</th>\n",
       "    </tr>\n",
       "  </thead>\n",
       "  <tbody>\n",
       "    <tr>\n",
       "      <th>logistric regression</th>\n",
       "      <td>0.91</td>\n",
       "      <td>0.85</td>\n",
       "      <td>0.83</td>\n",
       "      <td>0.92</td>\n",
       "      <td>0.87</td>\n",
       "      <td>0.88</td>\n",
       "      <td>0.88</td>\n",
       "    </tr>\n",
       "    <tr>\n",
       "      <th>naive bayes</th>\n",
       "      <td>0.82</td>\n",
       "      <td>0.75</td>\n",
       "      <td>0.73</td>\n",
       "      <td>0.84</td>\n",
       "      <td>0.77</td>\n",
       "      <td>0.79</td>\n",
       "      <td>0.78</td>\n",
       "    </tr>\n",
       "    <tr>\n",
       "      <th>knn</th>\n",
       "      <td>0.97</td>\n",
       "      <td>0.85</td>\n",
       "      <td>0.83</td>\n",
       "      <td>0.98</td>\n",
       "      <td>0.89</td>\n",
       "      <td>0.91</td>\n",
       "      <td>0.90</td>\n",
       "    </tr>\n",
       "    <tr>\n",
       "      <th>decision tree</th>\n",
       "      <td>0.95</td>\n",
       "      <td>0.93</td>\n",
       "      <td>0.93</td>\n",
       "      <td>0.95</td>\n",
       "      <td>0.94</td>\n",
       "      <td>0.94</td>\n",
       "      <td>0.94</td>\n",
       "    </tr>\n",
       "    <tr>\n",
       "      <th>random forest</th>\n",
       "      <td>0.99</td>\n",
       "      <td>0.90</td>\n",
       "      <td>0.89</td>\n",
       "      <td>0.99</td>\n",
       "      <td>0.94</td>\n",
       "      <td>0.94</td>\n",
       "      <td>0.94</td>\n",
       "    </tr>\n",
       "    <tr>\n",
       "      <th>svr</th>\n",
       "      <td>0.95</td>\n",
       "      <td>0.85</td>\n",
       "      <td>0.83</td>\n",
       "      <td>0.96</td>\n",
       "      <td>0.89</td>\n",
       "      <td>0.90</td>\n",
       "      <td>0.90</td>\n",
       "    </tr>\n",
       "    <tr>\n",
       "      <th>perceptron</th>\n",
       "      <td>0.95</td>\n",
       "      <td>0.61</td>\n",
       "      <td>0.38</td>\n",
       "      <td>0.98</td>\n",
       "      <td>0.54</td>\n",
       "      <td>0.75</td>\n",
       "      <td>0.68</td>\n",
       "    </tr>\n",
       "  </tbody>\n",
       "</table>\n",
       "</div>"
      ],
      "text/plain": [
       "                      precision no  precision yes  recall no  recall yes  \\\n",
       "logistric regression          0.91           0.85       0.83        0.92   \n",
       "naive bayes                   0.82           0.75       0.73        0.84   \n",
       "knn                           0.97           0.85       0.83        0.98   \n",
       "decision tree                 0.95           0.93       0.93        0.95   \n",
       "random forest                 0.99           0.90       0.89        0.99   \n",
       "svr                           0.95           0.85       0.83        0.96   \n",
       "perceptron                    0.95           0.61       0.38        0.98   \n",
       "\n",
       "                      f1 score no  f1 score no  accuracy  \n",
       "logistric regression         0.87         0.88      0.88  \n",
       "naive bayes                  0.77         0.79      0.78  \n",
       "knn                          0.89         0.91      0.90  \n",
       "decision tree                0.94         0.94      0.94  \n",
       "random forest                0.94         0.94      0.94  \n",
       "svr                          0.89         0.90      0.90  \n",
       "perceptron                   0.54         0.75      0.68  "
      ]
     },
     "execution_count": 104,
     "metadata": {},
     "output_type": "execute_result"
    }
   ],
   "source": [
    "data_model"
   ]
  },
  {
   "cell_type": "markdown",
   "metadata": {},
   "source": [
    "terlihat bahwa model yang memiliki nilai tertinggi adalah `random forest` dan `decision tree`, sehingga kurang lebih model terbaik yang dapat digunakan untuk memprediksi customer apakah akan melakukan deposito berjangka atau tidak adalah dengan menggunakan `random forest` atau `decision tree`"
   ]
  }
 ],
 "metadata": {
  "interpreter": {
   "hash": "6d260c93fe108ed97f4a63214c8644960b32a7056e9114e087715075082f9a3d"
  },
  "kernelspec": {
   "display_name": "Python 3.9.9 64-bit",
   "language": "python",
   "name": "python3"
  },
  "language_info": {
   "codemirror_mode": {
    "name": "ipython",
    "version": 3
   },
   "file_extension": ".py",
   "mimetype": "text/x-python",
   "name": "python",
   "nbconvert_exporter": "python",
   "pygments_lexer": "ipython3",
   "version": "3.9.9"
  },
  "orig_nbformat": 4
 },
 "nbformat": 4,
 "nbformat_minor": 2
}
